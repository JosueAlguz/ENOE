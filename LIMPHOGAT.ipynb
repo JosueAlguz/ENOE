{
 "cells": [
  {
   "cell_type": "code",
   "execution_count": 4,
   "metadata": {
    "collapsed": true
   },
   "outputs": [],
   "source": [
    "import pandas as pd\n",
    "import numpy as np"
   ]
  },
  {
   "cell_type": "markdown",
   "metadata": {},
   "source": [
    "# Tabla Hogar\n",
    "\n",
    "Encuesta Nacional de Ocupación y Empleo\n",
    "\n",
    "Nombre dse la tabla de datos: HOGT\n",
    "\n",
    "Carga de Datos"
   ]
  },
  {
   "cell_type": "markdown",
   "metadata": {},
   "source": [
    "# #2011"
   ]
  },
  {
   "cell_type": "code",
   "execution_count": 2,
   "metadata": {
    "collapsed": false
   },
   "outputs": [
    {
     "data": {
      "text/html": [
       "<div>\n",
       "<table border=\"1\" class=\"dataframe\">\n",
       "  <thead>\n",
       "    <tr style=\"text-align: right;\">\n",
       "      <th></th>\n",
       "      <th>loc</th>\n",
       "      <th>mun</th>\n",
       "      <th>est</th>\n",
       "      <th>est_d</th>\n",
       "      <th>ageb</th>\n",
       "      <th>t_loc</th>\n",
       "      <th>cd_a</th>\n",
       "      <th>ent</th>\n",
       "      <th>con</th>\n",
       "      <th>upm</th>\n",
       "      <th>...</th>\n",
       "      <th>r_def</th>\n",
       "      <th>d_dia</th>\n",
       "      <th>d_mes</th>\n",
       "      <th>d_anio</th>\n",
       "      <th>e_obs</th>\n",
       "      <th>p4_1</th>\n",
       "      <th>p4_2</th>\n",
       "      <th>inf</th>\n",
       "      <th>ur</th>\n",
       "      <th>fac</th>\n",
       "    </tr>\n",
       "  </thead>\n",
       "  <tbody>\n",
       "    <tr>\n",
       "      <th>0</th>\n",
       "      <td>1</td>\n",
       "      <td>1</td>\n",
       "      <td>32</td>\n",
       "      <td>121</td>\n",
       "      <td>0</td>\n",
       "      <td>1</td>\n",
       "      <td>14</td>\n",
       "      <td>1</td>\n",
       "      <td>1</td>\n",
       "      <td>802</td>\n",
       "      <td>...</td>\n",
       "      <td>0</td>\n",
       "      <td>3</td>\n",
       "      <td>1</td>\n",
       "      <td>11</td>\n",
       "      <td>2</td>\n",
       "      <td>4</td>\n",
       "      <td>NaN</td>\n",
       "      <td>3</td>\n",
       "      <td>1</td>\n",
       "      <td>100</td>\n",
       "    </tr>\n",
       "    <tr>\n",
       "      <th>1</th>\n",
       "      <td>1</td>\n",
       "      <td>1</td>\n",
       "      <td>32</td>\n",
       "      <td>121</td>\n",
       "      <td>0</td>\n",
       "      <td>1</td>\n",
       "      <td>14</td>\n",
       "      <td>1</td>\n",
       "      <td>1</td>\n",
       "      <td>802</td>\n",
       "      <td>...</td>\n",
       "      <td>0</td>\n",
       "      <td>7</td>\n",
       "      <td>1</td>\n",
       "      <td>11</td>\n",
       "      <td>1</td>\n",
       "      <td>4</td>\n",
       "      <td>NaN</td>\n",
       "      <td>1</td>\n",
       "      <td>1</td>\n",
       "      <td>100</td>\n",
       "    </tr>\n",
       "    <tr>\n",
       "      <th>2</th>\n",
       "      <td>1</td>\n",
       "      <td>1</td>\n",
       "      <td>32</td>\n",
       "      <td>121</td>\n",
       "      <td>0</td>\n",
       "      <td>1</td>\n",
       "      <td>14</td>\n",
       "      <td>1</td>\n",
       "      <td>1</td>\n",
       "      <td>802</td>\n",
       "      <td>...</td>\n",
       "      <td>0</td>\n",
       "      <td>4</td>\n",
       "      <td>1</td>\n",
       "      <td>11</td>\n",
       "      <td>2</td>\n",
       "      <td>4</td>\n",
       "      <td>NaN</td>\n",
       "      <td>3</td>\n",
       "      <td>1</td>\n",
       "      <td>100</td>\n",
       "    </tr>\n",
       "    <tr>\n",
       "      <th>3</th>\n",
       "      <td>1</td>\n",
       "      <td>1</td>\n",
       "      <td>32</td>\n",
       "      <td>121</td>\n",
       "      <td>0</td>\n",
       "      <td>1</td>\n",
       "      <td>14</td>\n",
       "      <td>1</td>\n",
       "      <td>1</td>\n",
       "      <td>802</td>\n",
       "      <td>...</td>\n",
       "      <td>0</td>\n",
       "      <td>3</td>\n",
       "      <td>1</td>\n",
       "      <td>11</td>\n",
       "      <td>2</td>\n",
       "      <td>4</td>\n",
       "      <td>NaN</td>\n",
       "      <td>2</td>\n",
       "      <td>1</td>\n",
       "      <td>100</td>\n",
       "    </tr>\n",
       "    <tr>\n",
       "      <th>4</th>\n",
       "      <td>1</td>\n",
       "      <td>1</td>\n",
       "      <td>32</td>\n",
       "      <td>121</td>\n",
       "      <td>0</td>\n",
       "      <td>1</td>\n",
       "      <td>14</td>\n",
       "      <td>1</td>\n",
       "      <td>1</td>\n",
       "      <td>802</td>\n",
       "      <td>...</td>\n",
       "      <td>0</td>\n",
       "      <td>3</td>\n",
       "      <td>1</td>\n",
       "      <td>11</td>\n",
       "      <td>2</td>\n",
       "      <td>4</td>\n",
       "      <td>NaN</td>\n",
       "      <td>1</td>\n",
       "      <td>1</td>\n",
       "      <td>100</td>\n",
       "    </tr>\n",
       "  </tbody>\n",
       "</table>\n",
       "<p>5 rows × 31 columns</p>\n",
       "</div>"
      ],
      "text/plain": [
       "   loc  mun  est  est_d  ageb  t_loc  cd_a  ent  con  upm ...   r_def  d_dia  \\\n",
       "0    1    1   32    121     0      1    14    1    1  802 ...       0      3   \n",
       "1    1    1   32    121     0      1    14    1    1  802 ...       0      7   \n",
       "2    1    1   32    121     0      1    14    1    1  802 ...       0      4   \n",
       "3    1    1   32    121     0      1    14    1    1  802 ...       0      3   \n",
       "4    1    1   32    121     0      1    14    1    1  802 ...       0      3   \n",
       "\n",
       "   d_mes  d_anio  e_obs  p4_1  p4_2  inf  ur  fac  \n",
       "0      1      11      2     4   NaN    3   1  100  \n",
       "1      1      11      1     4   NaN    1   1  100  \n",
       "2      1      11      2     4   NaN    3   1  100  \n",
       "3      1      11      2     4   NaN    2   1  100  \n",
       "4      1      11      2     4   NaN    1   1  100  \n",
       "\n",
       "[5 rows x 31 columns]"
      ]
     },
     "execution_count": 2,
     "metadata": {},
     "output_type": "execute_result"
    }
   ],
   "source": [
    "path_hogt111 = 'C:/Users/sala5/Desktop/ENOE/2011/hogt111.csv'\n",
    "df_hogt111 = pd.read_csv(path_hogt111, low_memory=False, encoding='latin')\n",
    "df_hogt111.head()"
   ]
  },
  {
   "cell_type": "code",
   "execution_count": 5,
   "metadata": {
    "collapsed": false
   },
   "outputs": [
    {
     "data": {
      "text/html": [
       "<div>\n",
       "<table border=\"1\" class=\"dataframe\">\n",
       "  <thead>\n",
       "    <tr style=\"text-align: right;\">\n",
       "      <th></th>\n",
       "      <th>loc</th>\n",
       "      <th>mun</th>\n",
       "      <th>est</th>\n",
       "      <th>est_d</th>\n",
       "      <th>ageb</th>\n",
       "      <th>t_loc</th>\n",
       "      <th>cd_a</th>\n",
       "      <th>ent</th>\n",
       "      <th>con</th>\n",
       "      <th>upm</th>\n",
       "      <th>...</th>\n",
       "      <th>r_def</th>\n",
       "      <th>d_dia</th>\n",
       "      <th>d_mes</th>\n",
       "      <th>d_anio</th>\n",
       "      <th>e_obs</th>\n",
       "      <th>p4_1</th>\n",
       "      <th>p4_2</th>\n",
       "      <th>inf</th>\n",
       "      <th>ur</th>\n",
       "      <th>fac</th>\n",
       "    </tr>\n",
       "  </thead>\n",
       "  <tbody>\n",
       "    <tr>\n",
       "      <th>0</th>\n",
       "      <td>1</td>\n",
       "      <td>1</td>\n",
       "      <td>32</td>\n",
       "      <td>121</td>\n",
       "      <td>0</td>\n",
       "      <td>1</td>\n",
       "      <td>14</td>\n",
       "      <td>1</td>\n",
       "      <td>1</td>\n",
       "      <td>802</td>\n",
       "      <td>...</td>\n",
       "      <td>0</td>\n",
       "      <td>4</td>\n",
       "      <td>4</td>\n",
       "      <td>11</td>\n",
       "      <td>2</td>\n",
       "      <td>4</td>\n",
       "      <td>NaN</td>\n",
       "      <td>2</td>\n",
       "      <td>1</td>\n",
       "      <td>102</td>\n",
       "    </tr>\n",
       "    <tr>\n",
       "      <th>1</th>\n",
       "      <td>1</td>\n",
       "      <td>1</td>\n",
       "      <td>32</td>\n",
       "      <td>121</td>\n",
       "      <td>0</td>\n",
       "      <td>1</td>\n",
       "      <td>14</td>\n",
       "      <td>1</td>\n",
       "      <td>1</td>\n",
       "      <td>802</td>\n",
       "      <td>...</td>\n",
       "      <td>0</td>\n",
       "      <td>8</td>\n",
       "      <td>4</td>\n",
       "      <td>11</td>\n",
       "      <td>2</td>\n",
       "      <td>4</td>\n",
       "      <td>NaN</td>\n",
       "      <td>1</td>\n",
       "      <td>1</td>\n",
       "      <td>102</td>\n",
       "    </tr>\n",
       "    <tr>\n",
       "      <th>2</th>\n",
       "      <td>1</td>\n",
       "      <td>1</td>\n",
       "      <td>32</td>\n",
       "      <td>121</td>\n",
       "      <td>0</td>\n",
       "      <td>1</td>\n",
       "      <td>14</td>\n",
       "      <td>1</td>\n",
       "      <td>1</td>\n",
       "      <td>802</td>\n",
       "      <td>...</td>\n",
       "      <td>0</td>\n",
       "      <td>8</td>\n",
       "      <td>4</td>\n",
       "      <td>11</td>\n",
       "      <td>2</td>\n",
       "      <td>4</td>\n",
       "      <td>NaN</td>\n",
       "      <td>3</td>\n",
       "      <td>1</td>\n",
       "      <td>102</td>\n",
       "    </tr>\n",
       "    <tr>\n",
       "      <th>3</th>\n",
       "      <td>1</td>\n",
       "      <td>1</td>\n",
       "      <td>32</td>\n",
       "      <td>121</td>\n",
       "      <td>0</td>\n",
       "      <td>1</td>\n",
       "      <td>14</td>\n",
       "      <td>1</td>\n",
       "      <td>1</td>\n",
       "      <td>802</td>\n",
       "      <td>...</td>\n",
       "      <td>0</td>\n",
       "      <td>4</td>\n",
       "      <td>4</td>\n",
       "      <td>11</td>\n",
       "      <td>2</td>\n",
       "      <td>4</td>\n",
       "      <td>NaN</td>\n",
       "      <td>1</td>\n",
       "      <td>1</td>\n",
       "      <td>102</td>\n",
       "    </tr>\n",
       "    <tr>\n",
       "      <th>4</th>\n",
       "      <td>1</td>\n",
       "      <td>1</td>\n",
       "      <td>32</td>\n",
       "      <td>121</td>\n",
       "      <td>0</td>\n",
       "      <td>1</td>\n",
       "      <td>14</td>\n",
       "      <td>1</td>\n",
       "      <td>1</td>\n",
       "      <td>802</td>\n",
       "      <td>...</td>\n",
       "      <td>0</td>\n",
       "      <td>4</td>\n",
       "      <td>4</td>\n",
       "      <td>11</td>\n",
       "      <td>2</td>\n",
       "      <td>4</td>\n",
       "      <td>NaN</td>\n",
       "      <td>1</td>\n",
       "      <td>1</td>\n",
       "      <td>102</td>\n",
       "    </tr>\n",
       "  </tbody>\n",
       "</table>\n",
       "<p>5 rows × 31 columns</p>\n",
       "</div>"
      ],
      "text/plain": [
       "   loc  mun  est  est_d  ageb  t_loc  cd_a  ent  con  upm ...   r_def  d_dia  \\\n",
       "0    1    1   32    121     0      1    14    1    1  802 ...       0      4   \n",
       "1    1    1   32    121     0      1    14    1    1  802 ...       0      8   \n",
       "2    1    1   32    121     0      1    14    1    1  802 ...       0      8   \n",
       "3    1    1   32    121     0      1    14    1    1  802 ...       0      4   \n",
       "4    1    1   32    121     0      1    14    1    1  802 ...       0      4   \n",
       "\n",
       "   d_mes  d_anio  e_obs  p4_1  p4_2  inf  ur  fac  \n",
       "0      4      11      2     4   NaN    2   1  102  \n",
       "1      4      11      2     4   NaN    1   1  102  \n",
       "2      4      11      2     4   NaN    3   1  102  \n",
       "3      4      11      2     4   NaN    1   1  102  \n",
       "4      4      11      2     4   NaN    1   1  102  \n",
       "\n",
       "[5 rows x 31 columns]"
      ]
     },
     "execution_count": 5,
     "metadata": {},
     "output_type": "execute_result"
    }
   ],
   "source": [
    "path_hogt211 = 'C:/Users/sala5/Desktop/ENOE/2011/hogt211.csv'\n",
    "df_hogt211 = pd.read_csv(path_hogt211, low_memory=False, encoding='latin')\n",
    "df_hogt211.head()"
   ]
  },
  {
   "cell_type": "code",
   "execution_count": 6,
   "metadata": {
    "collapsed": false
   },
   "outputs": [
    {
     "data": {
      "text/html": [
       "<div>\n",
       "<table border=\"1\" class=\"dataframe\">\n",
       "  <thead>\n",
       "    <tr style=\"text-align: right;\">\n",
       "      <th></th>\n",
       "      <th>loc</th>\n",
       "      <th>mun</th>\n",
       "      <th>est</th>\n",
       "      <th>est_d</th>\n",
       "      <th>ageb</th>\n",
       "      <th>t_loc</th>\n",
       "      <th>cd_a</th>\n",
       "      <th>ent</th>\n",
       "      <th>con</th>\n",
       "      <th>upm</th>\n",
       "      <th>...</th>\n",
       "      <th>r_def</th>\n",
       "      <th>d_dia</th>\n",
       "      <th>d_mes</th>\n",
       "      <th>d_anio</th>\n",
       "      <th>e_obs</th>\n",
       "      <th>p4_1</th>\n",
       "      <th>p4_2</th>\n",
       "      <th>inf</th>\n",
       "      <th>ur</th>\n",
       "      <th>fac</th>\n",
       "    </tr>\n",
       "  </thead>\n",
       "  <tbody>\n",
       "    <tr>\n",
       "      <th>0</th>\n",
       "      <td>1</td>\n",
       "      <td>1</td>\n",
       "      <td>32</td>\n",
       "      <td>121</td>\n",
       "      <td>0</td>\n",
       "      <td>1</td>\n",
       "      <td>14</td>\n",
       "      <td>1</td>\n",
       "      <td>1</td>\n",
       "      <td>802</td>\n",
       "      <td>...</td>\n",
       "      <td>0</td>\n",
       "      <td>7</td>\n",
       "      <td>7</td>\n",
       "      <td>11</td>\n",
       "      <td>2</td>\n",
       "      <td>4</td>\n",
       "      <td>NaN</td>\n",
       "      <td>2</td>\n",
       "      <td>1</td>\n",
       "      <td>104</td>\n",
       "    </tr>\n",
       "    <tr>\n",
       "      <th>1</th>\n",
       "      <td>1</td>\n",
       "      <td>1</td>\n",
       "      <td>32</td>\n",
       "      <td>121</td>\n",
       "      <td>0</td>\n",
       "      <td>1</td>\n",
       "      <td>14</td>\n",
       "      <td>1</td>\n",
       "      <td>1</td>\n",
       "      <td>802</td>\n",
       "      <td>...</td>\n",
       "      <td>0</td>\n",
       "      <td>5</td>\n",
       "      <td>7</td>\n",
       "      <td>11</td>\n",
       "      <td>2</td>\n",
       "      <td>4</td>\n",
       "      <td>NaN</td>\n",
       "      <td>1</td>\n",
       "      <td>1</td>\n",
       "      <td>104</td>\n",
       "    </tr>\n",
       "    <tr>\n",
       "      <th>2</th>\n",
       "      <td>1</td>\n",
       "      <td>1</td>\n",
       "      <td>32</td>\n",
       "      <td>121</td>\n",
       "      <td>0</td>\n",
       "      <td>1</td>\n",
       "      <td>14</td>\n",
       "      <td>1</td>\n",
       "      <td>1</td>\n",
       "      <td>802</td>\n",
       "      <td>...</td>\n",
       "      <td>0</td>\n",
       "      <td>6</td>\n",
       "      <td>7</td>\n",
       "      <td>11</td>\n",
       "      <td>2</td>\n",
       "      <td>4</td>\n",
       "      <td>NaN</td>\n",
       "      <td>2</td>\n",
       "      <td>1</td>\n",
       "      <td>104</td>\n",
       "    </tr>\n",
       "    <tr>\n",
       "      <th>3</th>\n",
       "      <td>1</td>\n",
       "      <td>1</td>\n",
       "      <td>32</td>\n",
       "      <td>121</td>\n",
       "      <td>0</td>\n",
       "      <td>1</td>\n",
       "      <td>14</td>\n",
       "      <td>1</td>\n",
       "      <td>1</td>\n",
       "      <td>802</td>\n",
       "      <td>...</td>\n",
       "      <td>0</td>\n",
       "      <td>7</td>\n",
       "      <td>7</td>\n",
       "      <td>11</td>\n",
       "      <td>2</td>\n",
       "      <td>4</td>\n",
       "      <td>NaN</td>\n",
       "      <td>1</td>\n",
       "      <td>1</td>\n",
       "      <td>104</td>\n",
       "    </tr>\n",
       "    <tr>\n",
       "      <th>4</th>\n",
       "      <td>1</td>\n",
       "      <td>1</td>\n",
       "      <td>32</td>\n",
       "      <td>121</td>\n",
       "      <td>0</td>\n",
       "      <td>1</td>\n",
       "      <td>14</td>\n",
       "      <td>1</td>\n",
       "      <td>1</td>\n",
       "      <td>802</td>\n",
       "      <td>...</td>\n",
       "      <td>6</td>\n",
       "      <td>13</td>\n",
       "      <td>7</td>\n",
       "      <td>11</td>\n",
       "      <td></td>\n",
       "      <td></td>\n",
       "      <td>NaN</td>\n",
       "      <td>0</td>\n",
       "      <td>1</td>\n",
       "      <td>104</td>\n",
       "    </tr>\n",
       "  </tbody>\n",
       "</table>\n",
       "<p>5 rows × 31 columns</p>\n",
       "</div>"
      ],
      "text/plain": [
       "   loc  mun  est  est_d  ageb  t_loc  cd_a  ent  con  upm ...   r_def  d_dia  \\\n",
       "0    1    1   32    121     0      1    14    1    1  802 ...       0      7   \n",
       "1    1    1   32    121     0      1    14    1    1  802 ...       0      5   \n",
       "2    1    1   32    121     0      1    14    1    1  802 ...       0      6   \n",
       "3    1    1   32    121     0      1    14    1    1  802 ...       0      7   \n",
       "4    1    1   32    121     0      1    14    1    1  802 ...       6     13   \n",
       "\n",
       "   d_mes  d_anio  e_obs  p4_1  p4_2  inf  ur  fac  \n",
       "0      7      11      2     4   NaN    2   1  104  \n",
       "1      7      11      2     4   NaN    1   1  104  \n",
       "2      7      11      2     4   NaN    2   1  104  \n",
       "3      7      11      2     4   NaN    1   1  104  \n",
       "4      7      11                NaN    0   1  104  \n",
       "\n",
       "[5 rows x 31 columns]"
      ]
     },
     "execution_count": 6,
     "metadata": {},
     "output_type": "execute_result"
    }
   ],
   "source": [
    "path_hogt311 = 'C:/Users/sala5/Desktop/ENOE/2011/hogt311.csv'\n",
    "df_hogt311 = pd.read_csv(path_hogt311, low_memory=False, encoding='latin')\n",
    "df_hogt311.head()"
   ]
  },
  {
   "cell_type": "code",
   "execution_count": 7,
   "metadata": {
    "collapsed": false
   },
   "outputs": [
    {
     "data": {
      "text/html": [
       "<div>\n",
       "<table border=\"1\" class=\"dataframe\">\n",
       "  <thead>\n",
       "    <tr style=\"text-align: right;\">\n",
       "      <th></th>\n",
       "      <th>loc</th>\n",
       "      <th>mun</th>\n",
       "      <th>est</th>\n",
       "      <th>est_d</th>\n",
       "      <th>ageb</th>\n",
       "      <th>t_loc</th>\n",
       "      <th>cd_a</th>\n",
       "      <th>ent</th>\n",
       "      <th>con</th>\n",
       "      <th>upm</th>\n",
       "      <th>...</th>\n",
       "      <th>r_def</th>\n",
       "      <th>d_dia</th>\n",
       "      <th>d_mes</th>\n",
       "      <th>d_anio</th>\n",
       "      <th>e_obs</th>\n",
       "      <th>p4_1</th>\n",
       "      <th>p4_2</th>\n",
       "      <th>inf</th>\n",
       "      <th>ur</th>\n",
       "      <th>fac</th>\n",
       "    </tr>\n",
       "  </thead>\n",
       "  <tbody>\n",
       "    <tr>\n",
       "      <th>0</th>\n",
       "      <td>1</td>\n",
       "      <td>1</td>\n",
       "      <td>32</td>\n",
       "      <td>121</td>\n",
       "      <td>0</td>\n",
       "      <td>1</td>\n",
       "      <td>14</td>\n",
       "      <td>1</td>\n",
       "      <td>1</td>\n",
       "      <td>802</td>\n",
       "      <td>...</td>\n",
       "      <td>0</td>\n",
       "      <td>3</td>\n",
       "      <td>10</td>\n",
       "      <td>11</td>\n",
       "      <td>2</td>\n",
       "      <td>4</td>\n",
       "      <td>NaN</td>\n",
       "      <td>1</td>\n",
       "      <td>1</td>\n",
       "      <td>103</td>\n",
       "    </tr>\n",
       "    <tr>\n",
       "      <th>1</th>\n",
       "      <td>1</td>\n",
       "      <td>1</td>\n",
       "      <td>32</td>\n",
       "      <td>121</td>\n",
       "      <td>0</td>\n",
       "      <td>1</td>\n",
       "      <td>14</td>\n",
       "      <td>1</td>\n",
       "      <td>1</td>\n",
       "      <td>802</td>\n",
       "      <td>...</td>\n",
       "      <td>0</td>\n",
       "      <td>4</td>\n",
       "      <td>10</td>\n",
       "      <td>11</td>\n",
       "      <td>2</td>\n",
       "      <td>4</td>\n",
       "      <td>NaN</td>\n",
       "      <td>1</td>\n",
       "      <td>1</td>\n",
       "      <td>103</td>\n",
       "    </tr>\n",
       "    <tr>\n",
       "      <th>2</th>\n",
       "      <td>1</td>\n",
       "      <td>1</td>\n",
       "      <td>32</td>\n",
       "      <td>121</td>\n",
       "      <td>0</td>\n",
       "      <td>1</td>\n",
       "      <td>14</td>\n",
       "      <td>1</td>\n",
       "      <td>1</td>\n",
       "      <td>802</td>\n",
       "      <td>...</td>\n",
       "      <td>0</td>\n",
       "      <td>4</td>\n",
       "      <td>10</td>\n",
       "      <td>11</td>\n",
       "      <td>2</td>\n",
       "      <td>4</td>\n",
       "      <td>NaN</td>\n",
       "      <td>1</td>\n",
       "      <td>1</td>\n",
       "      <td>103</td>\n",
       "    </tr>\n",
       "    <tr>\n",
       "      <th>3</th>\n",
       "      <td>1</td>\n",
       "      <td>1</td>\n",
       "      <td>32</td>\n",
       "      <td>121</td>\n",
       "      <td>0</td>\n",
       "      <td>1</td>\n",
       "      <td>14</td>\n",
       "      <td>1</td>\n",
       "      <td>1</td>\n",
       "      <td>802</td>\n",
       "      <td>...</td>\n",
       "      <td>0</td>\n",
       "      <td>4</td>\n",
       "      <td>10</td>\n",
       "      <td>11</td>\n",
       "      <td>2</td>\n",
       "      <td>4</td>\n",
       "      <td>NaN</td>\n",
       "      <td>1</td>\n",
       "      <td>1</td>\n",
       "      <td>103</td>\n",
       "    </tr>\n",
       "    <tr>\n",
       "      <th>4</th>\n",
       "      <td>1</td>\n",
       "      <td>1</td>\n",
       "      <td>32</td>\n",
       "      <td>121</td>\n",
       "      <td>0</td>\n",
       "      <td>1</td>\n",
       "      <td>14</td>\n",
       "      <td>1</td>\n",
       "      <td>1</td>\n",
       "      <td>802</td>\n",
       "      <td>...</td>\n",
       "      <td>6</td>\n",
       "      <td>12</td>\n",
       "      <td>10</td>\n",
       "      <td>11</td>\n",
       "      <td></td>\n",
       "      <td></td>\n",
       "      <td>NaN</td>\n",
       "      <td>0</td>\n",
       "      <td>1</td>\n",
       "      <td>103</td>\n",
       "    </tr>\n",
       "  </tbody>\n",
       "</table>\n",
       "<p>5 rows × 31 columns</p>\n",
       "</div>"
      ],
      "text/plain": [
       "   loc  mun  est  est_d  ageb  t_loc  cd_a  ent  con  upm ...   r_def  d_dia  \\\n",
       "0    1    1   32    121     0      1    14    1    1  802 ...       0      3   \n",
       "1    1    1   32    121     0      1    14    1    1  802 ...       0      4   \n",
       "2    1    1   32    121     0      1    14    1    1  802 ...       0      4   \n",
       "3    1    1   32    121     0      1    14    1    1  802 ...       0      4   \n",
       "4    1    1   32    121     0      1    14    1    1  802 ...       6     12   \n",
       "\n",
       "   d_mes  d_anio  e_obs  p4_1  p4_2  inf  ur  fac  \n",
       "0     10      11      2     4   NaN    1   1  103  \n",
       "1     10      11      2     4   NaN    1   1  103  \n",
       "2     10      11      2     4   NaN    1   1  103  \n",
       "3     10      11      2     4   NaN    1   1  103  \n",
       "4     10      11                NaN    0   1  103  \n",
       "\n",
       "[5 rows x 31 columns]"
      ]
     },
     "execution_count": 7,
     "metadata": {},
     "output_type": "execute_result"
    }
   ],
   "source": [
    "path_hogt411 = 'C:/Users/sala5/Desktop/ENOE/2011/hogt411.csv'\n",
    "df_hogt411 = pd.read_csv(path_hogt411, low_memory=False, encoding='latin')\n",
    "df_hogt411.head()"
   ]
  },
  {
   "cell_type": "markdown",
   "metadata": {},
   "source": [
    "Se copia la información para no volver a cargar todo"
   ]
  },
  {
   "cell_type": "code",
   "execution_count": 8,
   "metadata": {
    "collapsed": true
   },
   "outputs": [],
   "source": [
    "df_copy_hogt111 = df_hogt111.copy()\n",
    "df_copy_hogt211 = df_hogt211.copy()\n",
    "df_copy_hogt311 = df_hogt311.copy()\n",
    "df_copy_hogt411 = df_hogt411.copy()"
   ]
  },
  {
   "cell_type": "code",
   "execution_count": 9,
   "metadata": {
    "collapsed": false
   },
   "outputs": [
    {
     "name": "stdout",
     "output_type": "stream",
     "text": [
      "hogt111:  (121564, 31)\n",
      "hogt211:  (121558, 31)\n",
      "hogt311:  (121575, 31)\n",
      "hogt411:  (121526, 31)\n",
      "total:  486223\n"
     ]
    }
   ],
   "source": [
    "print('hogt111: ', df_copy_hogt111.shape)\n",
    "print('hogt211: ', df_copy_hogt211.shape)\n",
    "print('hogt311: ', df_copy_hogt311.shape)\n",
    "print('hogt411: ', df_copy_hogt411.shape)\n",
    "print('total: ', \n",
    "      df_copy_hogt111.shape[0]+\n",
    "      df_copy_hogt211.shape[0]+\n",
    "      df_copy_hogt311.shape[0]+\n",
    "      df_copy_hogt411.shape[0])"
   ]
  },
  {
   "cell_type": "code",
   "execution_count": 10,
   "metadata": {
    "collapsed": false
   },
   "outputs": [
    {
     "data": {
      "text/plain": [
       "(486223, 31)"
      ]
     },
     "execution_count": 10,
     "metadata": {},
     "output_type": "execute_result"
    }
   ],
   "source": [
    "#concatenar\n",
    "frames = [df_copy_hogt111, \n",
    "          df_copy_hogt211, \n",
    "          df_copy_hogt311, \n",
    "          df_copy_hogt411]\n",
    "\n",
    "df_hogt_2011 = pd.concat(frames)\n",
    "df_hogt_2011.shape"
   ]
  },
  {
   "cell_type": "markdown",
   "metadata": {},
   "source": [
    "## Exportar a CSV"
   ]
  },
  {
   "cell_type": "code",
   "execution_count": 11,
   "metadata": {
    "collapsed": true
   },
   "outputs": [],
   "source": [
    "#exportar csv\n",
    "\n",
    "path_df_hogt_2011 = 'C:/Users/sala5/Desktop/ENOE/2011/hogt_2011.csv'\n",
    "\n",
    "df_hogt_2011.to_csv(path_or_buf=path_df_hogt_2011, index=True, encoding='utf-8')"
   ]
  },
  {
   "cell_type": "markdown",
   "metadata": {},
   "source": [
    "## 2012"
   ]
  },
  {
   "cell_type": "code",
   "execution_count": 12,
   "metadata": {
    "collapsed": false
   },
   "outputs": [
    {
     "data": {
      "text/html": [
       "<div>\n",
       "<table border=\"1\" class=\"dataframe\">\n",
       "  <thead>\n",
       "    <tr style=\"text-align: right;\">\n",
       "      <th></th>\n",
       "      <th>loc</th>\n",
       "      <th>mun</th>\n",
       "      <th>est</th>\n",
       "      <th>est_d</th>\n",
       "      <th>ageb</th>\n",
       "      <th>t_loc</th>\n",
       "      <th>cd_a</th>\n",
       "      <th>ent</th>\n",
       "      <th>con</th>\n",
       "      <th>upm</th>\n",
       "      <th>...</th>\n",
       "      <th>r_def</th>\n",
       "      <th>d_dia</th>\n",
       "      <th>d_mes</th>\n",
       "      <th>d_anio</th>\n",
       "      <th>e_obs</th>\n",
       "      <th>p4_1</th>\n",
       "      <th>p4_2</th>\n",
       "      <th>inf</th>\n",
       "      <th>ur</th>\n",
       "      <th>fac</th>\n",
       "    </tr>\n",
       "  </thead>\n",
       "  <tbody>\n",
       "    <tr>\n",
       "      <th>0</th>\n",
       "      <td>1</td>\n",
       "      <td>1</td>\n",
       "      <td>32</td>\n",
       "      <td>121</td>\n",
       "      <td>0</td>\n",
       "      <td>1</td>\n",
       "      <td>14</td>\n",
       "      <td>1</td>\n",
       "      <td>1</td>\n",
       "      <td>802</td>\n",
       "      <td>...</td>\n",
       "      <td>0</td>\n",
       "      <td>4</td>\n",
       "      <td>1</td>\n",
       "      <td>12</td>\n",
       "      <td>1</td>\n",
       "      <td>4</td>\n",
       "      <td>NaN</td>\n",
       "      <td>6</td>\n",
       "      <td>1</td>\n",
       "      <td>105</td>\n",
       "    </tr>\n",
       "    <tr>\n",
       "      <th>1</th>\n",
       "      <td>1</td>\n",
       "      <td>1</td>\n",
       "      <td>32</td>\n",
       "      <td>121</td>\n",
       "      <td>0</td>\n",
       "      <td>1</td>\n",
       "      <td>14</td>\n",
       "      <td>1</td>\n",
       "      <td>1</td>\n",
       "      <td>802</td>\n",
       "      <td>...</td>\n",
       "      <td>0</td>\n",
       "      <td>5</td>\n",
       "      <td>1</td>\n",
       "      <td>12</td>\n",
       "      <td>2</td>\n",
       "      <td>4</td>\n",
       "      <td>NaN</td>\n",
       "      <td>1</td>\n",
       "      <td>1</td>\n",
       "      <td>105</td>\n",
       "    </tr>\n",
       "    <tr>\n",
       "      <th>2</th>\n",
       "      <td>1</td>\n",
       "      <td>1</td>\n",
       "      <td>32</td>\n",
       "      <td>121</td>\n",
       "      <td>0</td>\n",
       "      <td>1</td>\n",
       "      <td>14</td>\n",
       "      <td>1</td>\n",
       "      <td>1</td>\n",
       "      <td>802</td>\n",
       "      <td>...</td>\n",
       "      <td>0</td>\n",
       "      <td>6</td>\n",
       "      <td>1</td>\n",
       "      <td>12</td>\n",
       "      <td>2</td>\n",
       "      <td>4</td>\n",
       "      <td>NaN</td>\n",
       "      <td>1</td>\n",
       "      <td>1</td>\n",
       "      <td>105</td>\n",
       "    </tr>\n",
       "    <tr>\n",
       "      <th>3</th>\n",
       "      <td>1</td>\n",
       "      <td>1</td>\n",
       "      <td>32</td>\n",
       "      <td>121</td>\n",
       "      <td>0</td>\n",
       "      <td>1</td>\n",
       "      <td>14</td>\n",
       "      <td>1</td>\n",
       "      <td>1</td>\n",
       "      <td>802</td>\n",
       "      <td>...</td>\n",
       "      <td>0</td>\n",
       "      <td>6</td>\n",
       "      <td>1</td>\n",
       "      <td>12</td>\n",
       "      <td>2</td>\n",
       "      <td>4</td>\n",
       "      <td>NaN</td>\n",
       "      <td>7</td>\n",
       "      <td>1</td>\n",
       "      <td>105</td>\n",
       "    </tr>\n",
       "    <tr>\n",
       "      <th>4</th>\n",
       "      <td>1</td>\n",
       "      <td>1</td>\n",
       "      <td>32</td>\n",
       "      <td>121</td>\n",
       "      <td>0</td>\n",
       "      <td>1</td>\n",
       "      <td>14</td>\n",
       "      <td>1</td>\n",
       "      <td>1</td>\n",
       "      <td>802</td>\n",
       "      <td>...</td>\n",
       "      <td>0</td>\n",
       "      <td>5</td>\n",
       "      <td>1</td>\n",
       "      <td>12</td>\n",
       "      <td>2</td>\n",
       "      <td>4</td>\n",
       "      <td>NaN</td>\n",
       "      <td>1</td>\n",
       "      <td>1</td>\n",
       "      <td>105</td>\n",
       "    </tr>\n",
       "  </tbody>\n",
       "</table>\n",
       "<p>5 rows × 31 columns</p>\n",
       "</div>"
      ],
      "text/plain": [
       "   loc  mun  est  est_d  ageb  t_loc  cd_a  ent  con  upm ...   r_def  d_dia  \\\n",
       "0    1    1   32    121     0      1    14    1    1  802 ...       0      4   \n",
       "1    1    1   32    121     0      1    14    1    1  802 ...       0      5   \n",
       "2    1    1   32    121     0      1    14    1    1  802 ...       0      6   \n",
       "3    1    1   32    121     0      1    14    1    1  802 ...       0      6   \n",
       "4    1    1   32    121     0      1    14    1    1  802 ...       0      5   \n",
       "\n",
       "   d_mes  d_anio  e_obs  p4_1  p4_2  inf  ur  fac  \n",
       "0      1      12      1     4   NaN    6   1  105  \n",
       "1      1      12      2     4   NaN    1   1  105  \n",
       "2      1      12      2     4   NaN    1   1  105  \n",
       "3      1      12      2     4   NaN    7   1  105  \n",
       "4      1      12      2     4   NaN    1   1  105  \n",
       "\n",
       "[5 rows x 31 columns]"
      ]
     },
     "execution_count": 12,
     "metadata": {},
     "output_type": "execute_result"
    }
   ],
   "source": [
    "path_hogt112 = 'C:/Users/sala5/Desktop/ENOE/2012/hogt112.csv'\n",
    "df_hogt112 = pd.read_csv(path_hogt112, low_memory=False, encoding='latin')\n",
    "df_hogt112.head()"
   ]
  },
  {
   "cell_type": "code",
   "execution_count": 13,
   "metadata": {
    "collapsed": false
   },
   "outputs": [
    {
     "data": {
      "text/html": [
       "<div>\n",
       "<table border=\"1\" class=\"dataframe\">\n",
       "  <thead>\n",
       "    <tr style=\"text-align: right;\">\n",
       "      <th></th>\n",
       "      <th>loc</th>\n",
       "      <th>mun</th>\n",
       "      <th>est</th>\n",
       "      <th>est_d</th>\n",
       "      <th>ageb</th>\n",
       "      <th>t_loc</th>\n",
       "      <th>cd_a</th>\n",
       "      <th>ent</th>\n",
       "      <th>con</th>\n",
       "      <th>upm</th>\n",
       "      <th>...</th>\n",
       "      <th>r_def</th>\n",
       "      <th>d_dia</th>\n",
       "      <th>d_mes</th>\n",
       "      <th>d_anio</th>\n",
       "      <th>e_obs</th>\n",
       "      <th>p4_1</th>\n",
       "      <th>p4_2</th>\n",
       "      <th>inf</th>\n",
       "      <th>ur</th>\n",
       "      <th>fac</th>\n",
       "    </tr>\n",
       "  </thead>\n",
       "  <tbody>\n",
       "    <tr>\n",
       "      <th>0</th>\n",
       "      <td>1</td>\n",
       "      <td>1</td>\n",
       "      <td>32</td>\n",
       "      <td>121</td>\n",
       "      <td>0</td>\n",
       "      <td>1</td>\n",
       "      <td>14</td>\n",
       "      <td>1</td>\n",
       "      <td>1</td>\n",
       "      <td>802</td>\n",
       "      <td>...</td>\n",
       "      <td>0</td>\n",
       "      <td>2</td>\n",
       "      <td>4</td>\n",
       "      <td>12</td>\n",
       "      <td>2</td>\n",
       "      <td>4</td>\n",
       "      <td>NaN</td>\n",
       "      <td>3</td>\n",
       "      <td>1</td>\n",
       "      <td>104</td>\n",
       "    </tr>\n",
       "    <tr>\n",
       "      <th>1</th>\n",
       "      <td>1</td>\n",
       "      <td>1</td>\n",
       "      <td>32</td>\n",
       "      <td>121</td>\n",
       "      <td>0</td>\n",
       "      <td>1</td>\n",
       "      <td>14</td>\n",
       "      <td>1</td>\n",
       "      <td>1</td>\n",
       "      <td>802</td>\n",
       "      <td>...</td>\n",
       "      <td>0</td>\n",
       "      <td>2</td>\n",
       "      <td>4</td>\n",
       "      <td>12</td>\n",
       "      <td>2</td>\n",
       "      <td>4</td>\n",
       "      <td>NaN</td>\n",
       "      <td>1</td>\n",
       "      <td>1</td>\n",
       "      <td>104</td>\n",
       "    </tr>\n",
       "    <tr>\n",
       "      <th>2</th>\n",
       "      <td>1</td>\n",
       "      <td>1</td>\n",
       "      <td>32</td>\n",
       "      <td>121</td>\n",
       "      <td>0</td>\n",
       "      <td>1</td>\n",
       "      <td>14</td>\n",
       "      <td>1</td>\n",
       "      <td>1</td>\n",
       "      <td>802</td>\n",
       "      <td>...</td>\n",
       "      <td>0</td>\n",
       "      <td>2</td>\n",
       "      <td>4</td>\n",
       "      <td>12</td>\n",
       "      <td>2</td>\n",
       "      <td>4</td>\n",
       "      <td>NaN</td>\n",
       "      <td>1</td>\n",
       "      <td>1</td>\n",
       "      <td>104</td>\n",
       "    </tr>\n",
       "    <tr>\n",
       "      <th>3</th>\n",
       "      <td>1</td>\n",
       "      <td>1</td>\n",
       "      <td>32</td>\n",
       "      <td>121</td>\n",
       "      <td>0</td>\n",
       "      <td>1</td>\n",
       "      <td>14</td>\n",
       "      <td>1</td>\n",
       "      <td>1</td>\n",
       "      <td>802</td>\n",
       "      <td>...</td>\n",
       "      <td>0</td>\n",
       "      <td>2</td>\n",
       "      <td>4</td>\n",
       "      <td>12</td>\n",
       "      <td>2</td>\n",
       "      <td>4</td>\n",
       "      <td>NaN</td>\n",
       "      <td>97</td>\n",
       "      <td>1</td>\n",
       "      <td>104</td>\n",
       "    </tr>\n",
       "    <tr>\n",
       "      <th>4</th>\n",
       "      <td>1</td>\n",
       "      <td>1</td>\n",
       "      <td>32</td>\n",
       "      <td>121</td>\n",
       "      <td>0</td>\n",
       "      <td>1</td>\n",
       "      <td>14</td>\n",
       "      <td>1</td>\n",
       "      <td>1</td>\n",
       "      <td>802</td>\n",
       "      <td>...</td>\n",
       "      <td>0</td>\n",
       "      <td>2</td>\n",
       "      <td>4</td>\n",
       "      <td>12</td>\n",
       "      <td>2</td>\n",
       "      <td>4</td>\n",
       "      <td>NaN</td>\n",
       "      <td>3</td>\n",
       "      <td>1</td>\n",
       "      <td>104</td>\n",
       "    </tr>\n",
       "  </tbody>\n",
       "</table>\n",
       "<p>5 rows × 31 columns</p>\n",
       "</div>"
      ],
      "text/plain": [
       "   loc  mun  est  est_d  ageb  t_loc  cd_a  ent  con  upm ...   r_def  d_dia  \\\n",
       "0    1    1   32    121     0      1    14    1    1  802 ...       0      2   \n",
       "1    1    1   32    121     0      1    14    1    1  802 ...       0      2   \n",
       "2    1    1   32    121     0      1    14    1    1  802 ...       0      2   \n",
       "3    1    1   32    121     0      1    14    1    1  802 ...       0      2   \n",
       "4    1    1   32    121     0      1    14    1    1  802 ...       0      2   \n",
       "\n",
       "   d_mes  d_anio  e_obs  p4_1  p4_2  inf  ur  fac  \n",
       "0      4      12      2     4   NaN    3   1  104  \n",
       "1      4      12      2     4   NaN    1   1  104  \n",
       "2      4      12      2     4   NaN    1   1  104  \n",
       "3      4      12      2     4   NaN   97   1  104  \n",
       "4      4      12      2     4   NaN    3   1  104  \n",
       "\n",
       "[5 rows x 31 columns]"
      ]
     },
     "execution_count": 13,
     "metadata": {},
     "output_type": "execute_result"
    }
   ],
   "source": [
    "path_hogt212 = 'C:/Users/sala5/Desktop/ENOE/2012/hogt212.csv'\n",
    "df_hogt212 = pd.read_csv(path_hogt212, low_memory=False, encoding='latin')\n",
    "df_hogt212.head()"
   ]
  },
  {
   "cell_type": "code",
   "execution_count": 14,
   "metadata": {
    "collapsed": false
   },
   "outputs": [
    {
     "data": {
      "text/html": [
       "<div>\n",
       "<table border=\"1\" class=\"dataframe\">\n",
       "  <thead>\n",
       "    <tr style=\"text-align: right;\">\n",
       "      <th></th>\n",
       "      <th>loc</th>\n",
       "      <th>mun</th>\n",
       "      <th>est</th>\n",
       "      <th>est_d</th>\n",
       "      <th>ageb</th>\n",
       "      <th>t_loc</th>\n",
       "      <th>cd_a</th>\n",
       "      <th>ent</th>\n",
       "      <th>con</th>\n",
       "      <th>upm</th>\n",
       "      <th>...</th>\n",
       "      <th>r_def</th>\n",
       "      <th>d_dia</th>\n",
       "      <th>d_mes</th>\n",
       "      <th>d_anio</th>\n",
       "      <th>e_obs</th>\n",
       "      <th>p4_1</th>\n",
       "      <th>p4_2</th>\n",
       "      <th>inf</th>\n",
       "      <th>ur</th>\n",
       "      <th>fac</th>\n",
       "    </tr>\n",
       "  </thead>\n",
       "  <tbody>\n",
       "    <tr>\n",
       "      <th>0</th>\n",
       "      <td>1</td>\n",
       "      <td>1</td>\n",
       "      <td>32</td>\n",
       "      <td>121</td>\n",
       "      <td>0</td>\n",
       "      <td>1</td>\n",
       "      <td>14</td>\n",
       "      <td>1</td>\n",
       "      <td>1</td>\n",
       "      <td>802</td>\n",
       "      <td>...</td>\n",
       "      <td>0</td>\n",
       "      <td>3</td>\n",
       "      <td>7</td>\n",
       "      <td>12</td>\n",
       "      <td>2</td>\n",
       "      <td>4</td>\n",
       "      <td>NaN</td>\n",
       "      <td>3</td>\n",
       "      <td>1</td>\n",
       "      <td>107</td>\n",
       "    </tr>\n",
       "    <tr>\n",
       "      <th>1</th>\n",
       "      <td>1</td>\n",
       "      <td>1</td>\n",
       "      <td>32</td>\n",
       "      <td>121</td>\n",
       "      <td>0</td>\n",
       "      <td>1</td>\n",
       "      <td>14</td>\n",
       "      <td>1</td>\n",
       "      <td>1</td>\n",
       "      <td>802</td>\n",
       "      <td>...</td>\n",
       "      <td>0</td>\n",
       "      <td>7</td>\n",
       "      <td>7</td>\n",
       "      <td>12</td>\n",
       "      <td>2</td>\n",
       "      <td>4</td>\n",
       "      <td>NaN</td>\n",
       "      <td>1</td>\n",
       "      <td>1</td>\n",
       "      <td>107</td>\n",
       "    </tr>\n",
       "    <tr>\n",
       "      <th>2</th>\n",
       "      <td>1</td>\n",
       "      <td>1</td>\n",
       "      <td>32</td>\n",
       "      <td>121</td>\n",
       "      <td>0</td>\n",
       "      <td>1</td>\n",
       "      <td>14</td>\n",
       "      <td>1</td>\n",
       "      <td>1</td>\n",
       "      <td>802</td>\n",
       "      <td>...</td>\n",
       "      <td>0</td>\n",
       "      <td>6</td>\n",
       "      <td>7</td>\n",
       "      <td>12</td>\n",
       "      <td>2</td>\n",
       "      <td>4</td>\n",
       "      <td>NaN</td>\n",
       "      <td>1</td>\n",
       "      <td>1</td>\n",
       "      <td>107</td>\n",
       "    </tr>\n",
       "    <tr>\n",
       "      <th>3</th>\n",
       "      <td>1</td>\n",
       "      <td>1</td>\n",
       "      <td>32</td>\n",
       "      <td>121</td>\n",
       "      <td>0</td>\n",
       "      <td>1</td>\n",
       "      <td>14</td>\n",
       "      <td>1</td>\n",
       "      <td>1</td>\n",
       "      <td>802</td>\n",
       "      <td>...</td>\n",
       "      <td>0</td>\n",
       "      <td>5</td>\n",
       "      <td>7</td>\n",
       "      <td>12</td>\n",
       "      <td>2</td>\n",
       "      <td>4</td>\n",
       "      <td>NaN</td>\n",
       "      <td>97</td>\n",
       "      <td>1</td>\n",
       "      <td>107</td>\n",
       "    </tr>\n",
       "    <tr>\n",
       "      <th>4</th>\n",
       "      <td>1</td>\n",
       "      <td>1</td>\n",
       "      <td>32</td>\n",
       "      <td>121</td>\n",
       "      <td>0</td>\n",
       "      <td>1</td>\n",
       "      <td>14</td>\n",
       "      <td>1</td>\n",
       "      <td>1</td>\n",
       "      <td>802</td>\n",
       "      <td>...</td>\n",
       "      <td>0</td>\n",
       "      <td>7</td>\n",
       "      <td>7</td>\n",
       "      <td>12</td>\n",
       "      <td>2</td>\n",
       "      <td>4</td>\n",
       "      <td>NaN</td>\n",
       "      <td>1</td>\n",
       "      <td>1</td>\n",
       "      <td>107</td>\n",
       "    </tr>\n",
       "  </tbody>\n",
       "</table>\n",
       "<p>5 rows × 31 columns</p>\n",
       "</div>"
      ],
      "text/plain": [
       "   loc  mun  est  est_d  ageb  t_loc  cd_a  ent  con  upm ...   r_def  d_dia  \\\n",
       "0    1    1   32    121     0      1    14    1    1  802 ...       0      3   \n",
       "1    1    1   32    121     0      1    14    1    1  802 ...       0      7   \n",
       "2    1    1   32    121     0      1    14    1    1  802 ...       0      6   \n",
       "3    1    1   32    121     0      1    14    1    1  802 ...       0      5   \n",
       "4    1    1   32    121     0      1    14    1    1  802 ...       0      7   \n",
       "\n",
       "   d_mes  d_anio  e_obs  p4_1  p4_2  inf  ur  fac  \n",
       "0      7      12      2     4   NaN    3   1  107  \n",
       "1      7      12      2     4   NaN    1   1  107  \n",
       "2      7      12      2     4   NaN    1   1  107  \n",
       "3      7      12      2     4   NaN   97   1  107  \n",
       "4      7      12      2     4   NaN    1   1  107  \n",
       "\n",
       "[5 rows x 31 columns]"
      ]
     },
     "execution_count": 14,
     "metadata": {},
     "output_type": "execute_result"
    }
   ],
   "source": [
    "path_hogt312 = 'C:/Users/sala5/Desktop/ENOE/2012/hogt312.csv'\n",
    "df_hogt312 = pd.read_csv(path_hogt312, low_memory=False, encoding='latin')\n",
    "df_hogt312.head()"
   ]
  },
  {
   "cell_type": "code",
   "execution_count": 15,
   "metadata": {
    "collapsed": false
   },
   "outputs": [
    {
     "data": {
      "text/html": [
       "<div>\n",
       "<table border=\"1\" class=\"dataframe\">\n",
       "  <thead>\n",
       "    <tr style=\"text-align: right;\">\n",
       "      <th></th>\n",
       "      <th>loc</th>\n",
       "      <th>mun</th>\n",
       "      <th>est</th>\n",
       "      <th>est_d</th>\n",
       "      <th>ageb</th>\n",
       "      <th>t_loc</th>\n",
       "      <th>cd_a</th>\n",
       "      <th>ent</th>\n",
       "      <th>con</th>\n",
       "      <th>upm</th>\n",
       "      <th>...</th>\n",
       "      <th>r_def</th>\n",
       "      <th>d_dia</th>\n",
       "      <th>d_mes</th>\n",
       "      <th>d_anio</th>\n",
       "      <th>e_obs</th>\n",
       "      <th>p4_1</th>\n",
       "      <th>p4_2</th>\n",
       "      <th>inf</th>\n",
       "      <th>ur</th>\n",
       "      <th>fac</th>\n",
       "    </tr>\n",
       "  </thead>\n",
       "  <tbody>\n",
       "    <tr>\n",
       "      <th>0</th>\n",
       "      <td>1</td>\n",
       "      <td>1</td>\n",
       "      <td>32</td>\n",
       "      <td>121</td>\n",
       "      <td>0</td>\n",
       "      <td>1</td>\n",
       "      <td>14</td>\n",
       "      <td>1</td>\n",
       "      <td>1</td>\n",
       "      <td>802</td>\n",
       "      <td>...</td>\n",
       "      <td>0</td>\n",
       "      <td>3</td>\n",
       "      <td>10</td>\n",
       "      <td>12</td>\n",
       "      <td>2</td>\n",
       "      <td>4</td>\n",
       "      <td>NaN</td>\n",
       "      <td>3</td>\n",
       "      <td>1</td>\n",
       "      <td>106</td>\n",
       "    </tr>\n",
       "    <tr>\n",
       "      <th>1</th>\n",
       "      <td>1</td>\n",
       "      <td>1</td>\n",
       "      <td>32</td>\n",
       "      <td>121</td>\n",
       "      <td>0</td>\n",
       "      <td>1</td>\n",
       "      <td>14</td>\n",
       "      <td>1</td>\n",
       "      <td>1</td>\n",
       "      <td>802</td>\n",
       "      <td>...</td>\n",
       "      <td>0</td>\n",
       "      <td>2</td>\n",
       "      <td>10</td>\n",
       "      <td>12</td>\n",
       "      <td>2</td>\n",
       "      <td>4</td>\n",
       "      <td>NaN</td>\n",
       "      <td>2</td>\n",
       "      <td>1</td>\n",
       "      <td>106</td>\n",
       "    </tr>\n",
       "    <tr>\n",
       "      <th>2</th>\n",
       "      <td>1</td>\n",
       "      <td>1</td>\n",
       "      <td>32</td>\n",
       "      <td>121</td>\n",
       "      <td>0</td>\n",
       "      <td>1</td>\n",
       "      <td>14</td>\n",
       "      <td>1</td>\n",
       "      <td>1</td>\n",
       "      <td>802</td>\n",
       "      <td>...</td>\n",
       "      <td>0</td>\n",
       "      <td>3</td>\n",
       "      <td>10</td>\n",
       "      <td>12</td>\n",
       "      <td>2</td>\n",
       "      <td>4</td>\n",
       "      <td>NaN</td>\n",
       "      <td>2</td>\n",
       "      <td>1</td>\n",
       "      <td>106</td>\n",
       "    </tr>\n",
       "    <tr>\n",
       "      <th>3</th>\n",
       "      <td>1</td>\n",
       "      <td>1</td>\n",
       "      <td>32</td>\n",
       "      <td>121</td>\n",
       "      <td>0</td>\n",
       "      <td>1</td>\n",
       "      <td>14</td>\n",
       "      <td>1</td>\n",
       "      <td>1</td>\n",
       "      <td>802</td>\n",
       "      <td>...</td>\n",
       "      <td>0</td>\n",
       "      <td>2</td>\n",
       "      <td>10</td>\n",
       "      <td>12</td>\n",
       "      <td>2</td>\n",
       "      <td>4</td>\n",
       "      <td>NaN</td>\n",
       "      <td>2</td>\n",
       "      <td>1</td>\n",
       "      <td>106</td>\n",
       "    </tr>\n",
       "    <tr>\n",
       "      <th>4</th>\n",
       "      <td>1</td>\n",
       "      <td>1</td>\n",
       "      <td>32</td>\n",
       "      <td>121</td>\n",
       "      <td>0</td>\n",
       "      <td>1</td>\n",
       "      <td>14</td>\n",
       "      <td>1</td>\n",
       "      <td>1</td>\n",
       "      <td>802</td>\n",
       "      <td>...</td>\n",
       "      <td>0</td>\n",
       "      <td>3</td>\n",
       "      <td>10</td>\n",
       "      <td>12</td>\n",
       "      <td>2</td>\n",
       "      <td>4</td>\n",
       "      <td>NaN</td>\n",
       "      <td>1</td>\n",
       "      <td>1</td>\n",
       "      <td>106</td>\n",
       "    </tr>\n",
       "  </tbody>\n",
       "</table>\n",
       "<p>5 rows × 31 columns</p>\n",
       "</div>"
      ],
      "text/plain": [
       "   loc  mun  est  est_d  ageb  t_loc  cd_a  ent  con  upm ...   r_def  d_dia  \\\n",
       "0    1    1   32    121     0      1    14    1    1  802 ...       0      3   \n",
       "1    1    1   32    121     0      1    14    1    1  802 ...       0      2   \n",
       "2    1    1   32    121     0      1    14    1    1  802 ...       0      3   \n",
       "3    1    1   32    121     0      1    14    1    1  802 ...       0      2   \n",
       "4    1    1   32    121     0      1    14    1    1  802 ...       0      3   \n",
       "\n",
       "   d_mes  d_anio  e_obs  p4_1  p4_2  inf  ur  fac  \n",
       "0     10      12      2     4   NaN    3   1  106  \n",
       "1     10      12      2     4   NaN    2   1  106  \n",
       "2     10      12      2     4   NaN    2   1  106  \n",
       "3     10      12      2     4   NaN    2   1  106  \n",
       "4     10      12      2     4   NaN    1   1  106  \n",
       "\n",
       "[5 rows x 31 columns]"
      ]
     },
     "execution_count": 15,
     "metadata": {},
     "output_type": "execute_result"
    }
   ],
   "source": [
    "path_hogt412 = 'C:/Users/sala5/Desktop/ENOE/2012/hogt412.csv'\n",
    "df_hogt412 = pd.read_csv(path_hogt412, low_memory=False, encoding='latin')\n",
    "df_hogt412.head()"
   ]
  },
  {
   "cell_type": "code",
   "execution_count": 16,
   "metadata": {
    "collapsed": true
   },
   "outputs": [],
   "source": [
    "df_copy_hogt112 = df_hogt112.copy()\n",
    "df_copy_hogt212 = df_hogt212.copy()\n",
    "df_copy_hogt312 = df_hogt312.copy()\n",
    "df_copy_hogt412 = df_hogt412.copy()"
   ]
  },
  {
   "cell_type": "code",
   "execution_count": 17,
   "metadata": {
    "collapsed": false
   },
   "outputs": [
    {
     "name": "stdout",
     "output_type": "stream",
     "text": [
      "hogt112:  (121498, 31)\n",
      "hogt212:  (121583, 31)\n",
      "hogt312:  (121633, 31)\n",
      "hogt412:  (121621, 31)\n",
      "total:  486335\n"
     ]
    }
   ],
   "source": [
    "print('hogt112: ', df_copy_hogt112.shape)\n",
    "print('hogt212: ', df_copy_hogt212.shape)\n",
    "print('hogt312: ', df_copy_hogt312.shape)\n",
    "print('hogt412: ', df_copy_hogt412.shape)\n",
    "print('total: ', \n",
    "      df_copy_hogt112.shape[0]+\n",
    "      df_copy_hogt212.shape[0]+\n",
    "      df_copy_hogt312.shape[0]+\n",
    "      df_copy_hogt412.shape[0])"
   ]
  },
  {
   "cell_type": "code",
   "execution_count": 18,
   "metadata": {
    "collapsed": false
   },
   "outputs": [
    {
     "data": {
      "text/plain": [
       "(486335, 31)"
      ]
     },
     "execution_count": 18,
     "metadata": {},
     "output_type": "execute_result"
    }
   ],
   "source": [
    "#concatenar\n",
    "frames = [df_copy_hogt112, \n",
    "          df_copy_hogt212, \n",
    "          df_copy_hogt312, \n",
    "          df_copy_hogt412]\n",
    "\n",
    "df_hogt_2012 = pd.concat(frames)\n",
    "df_hogt_2012.shape"
   ]
  },
  {
   "cell_type": "markdown",
   "metadata": {},
   "source": [
    "## Exportar a CSV"
   ]
  },
  {
   "cell_type": "code",
   "execution_count": 19,
   "metadata": {
    "collapsed": false
   },
   "outputs": [],
   "source": [
    "#exportar csv\n",
    "\n",
    "path_df_hogt_2012 = 'C:/Users/sala5/Desktop/ENOE/2012/hogt_2012.csv'\n",
    "\n",
    "df_hogt_2012.to_csv(path_or_buf=path_df_hogt_2012, index=True, encoding='utf-8')"
   ]
  },
  {
   "cell_type": "markdown",
   "metadata": {},
   "source": [
    "## 2013"
   ]
  },
  {
   "cell_type": "code",
   "execution_count": 20,
   "metadata": {
    "collapsed": false
   },
   "outputs": [
    {
     "data": {
      "text/html": [
       "<div>\n",
       "<table border=\"1\" class=\"dataframe\">\n",
       "  <thead>\n",
       "    <tr style=\"text-align: right;\">\n",
       "      <th></th>\n",
       "      <th>loc</th>\n",
       "      <th>mun</th>\n",
       "      <th>est</th>\n",
       "      <th>est_d</th>\n",
       "      <th>ageb</th>\n",
       "      <th>t_loc</th>\n",
       "      <th>cd_a</th>\n",
       "      <th>ent</th>\n",
       "      <th>con</th>\n",
       "      <th>upm</th>\n",
       "      <th>...</th>\n",
       "      <th>r_def</th>\n",
       "      <th>d_dia</th>\n",
       "      <th>d_mes</th>\n",
       "      <th>d_anio</th>\n",
       "      <th>e_obs</th>\n",
       "      <th>p4_1</th>\n",
       "      <th>p4_2</th>\n",
       "      <th>inf</th>\n",
       "      <th>ur</th>\n",
       "      <th>fac</th>\n",
       "    </tr>\n",
       "  </thead>\n",
       "  <tbody>\n",
       "    <tr>\n",
       "      <th>0</th>\n",
       "      <td>1</td>\n",
       "      <td>1</td>\n",
       "      <td>32</td>\n",
       "      <td>1121</td>\n",
       "      <td>0</td>\n",
       "      <td>1</td>\n",
       "      <td>14</td>\n",
       "      <td>1</td>\n",
       "      <td>1</td>\n",
       "      <td>802</td>\n",
       "      <td>...</td>\n",
       "      <td>0</td>\n",
       "      <td>31</td>\n",
       "      <td>12</td>\n",
       "      <td>12</td>\n",
       "      <td>2</td>\n",
       "      <td>4</td>\n",
       "      <td>NaN</td>\n",
       "      <td>3</td>\n",
       "      <td>1</td>\n",
       "      <td>103</td>\n",
       "    </tr>\n",
       "    <tr>\n",
       "      <th>1</th>\n",
       "      <td>1</td>\n",
       "      <td>1</td>\n",
       "      <td>32</td>\n",
       "      <td>1121</td>\n",
       "      <td>0</td>\n",
       "      <td>1</td>\n",
       "      <td>14</td>\n",
       "      <td>1</td>\n",
       "      <td>1</td>\n",
       "      <td>802</td>\n",
       "      <td>...</td>\n",
       "      <td>0</td>\n",
       "      <td>31</td>\n",
       "      <td>12</td>\n",
       "      <td>12</td>\n",
       "      <td>2</td>\n",
       "      <td>4</td>\n",
       "      <td>NaN</td>\n",
       "      <td>1</td>\n",
       "      <td>1</td>\n",
       "      <td>103</td>\n",
       "    </tr>\n",
       "    <tr>\n",
       "      <th>2</th>\n",
       "      <td>1</td>\n",
       "      <td>1</td>\n",
       "      <td>32</td>\n",
       "      <td>1121</td>\n",
       "      <td>0</td>\n",
       "      <td>1</td>\n",
       "      <td>14</td>\n",
       "      <td>1</td>\n",
       "      <td>1</td>\n",
       "      <td>802</td>\n",
       "      <td>...</td>\n",
       "      <td>0</td>\n",
       "      <td>31</td>\n",
       "      <td>12</td>\n",
       "      <td>12</td>\n",
       "      <td>2</td>\n",
       "      <td>4</td>\n",
       "      <td>NaN</td>\n",
       "      <td>3</td>\n",
       "      <td>1</td>\n",
       "      <td>103</td>\n",
       "    </tr>\n",
       "    <tr>\n",
       "      <th>3</th>\n",
       "      <td>1</td>\n",
       "      <td>1</td>\n",
       "      <td>32</td>\n",
       "      <td>1121</td>\n",
       "      <td>0</td>\n",
       "      <td>1</td>\n",
       "      <td>14</td>\n",
       "      <td>1</td>\n",
       "      <td>1</td>\n",
       "      <td>802</td>\n",
       "      <td>...</td>\n",
       "      <td>0</td>\n",
       "      <td>31</td>\n",
       "      <td>12</td>\n",
       "      <td>12</td>\n",
       "      <td>2</td>\n",
       "      <td>4</td>\n",
       "      <td>NaN</td>\n",
       "      <td>3</td>\n",
       "      <td>1</td>\n",
       "      <td>103</td>\n",
       "    </tr>\n",
       "    <tr>\n",
       "      <th>4</th>\n",
       "      <td>1</td>\n",
       "      <td>1</td>\n",
       "      <td>32</td>\n",
       "      <td>1121</td>\n",
       "      <td>0</td>\n",
       "      <td>1</td>\n",
       "      <td>14</td>\n",
       "      <td>1</td>\n",
       "      <td>1</td>\n",
       "      <td>802</td>\n",
       "      <td>...</td>\n",
       "      <td>0</td>\n",
       "      <td>31</td>\n",
       "      <td>12</td>\n",
       "      <td>12</td>\n",
       "      <td>2</td>\n",
       "      <td>4</td>\n",
       "      <td>NaN</td>\n",
       "      <td>1</td>\n",
       "      <td>1</td>\n",
       "      <td>103</td>\n",
       "    </tr>\n",
       "  </tbody>\n",
       "</table>\n",
       "<p>5 rows × 31 columns</p>\n",
       "</div>"
      ],
      "text/plain": [
       "   loc  mun  est  est_d  ageb  t_loc  cd_a  ent  con  upm ...   r_def  d_dia  \\\n",
       "0    1    1   32   1121     0      1    14    1    1  802 ...       0     31   \n",
       "1    1    1   32   1121     0      1    14    1    1  802 ...       0     31   \n",
       "2    1    1   32   1121     0      1    14    1    1  802 ...       0     31   \n",
       "3    1    1   32   1121     0      1    14    1    1  802 ...       0     31   \n",
       "4    1    1   32   1121     0      1    14    1    1  802 ...       0     31   \n",
       "\n",
       "   d_mes  d_anio  e_obs  p4_1  p4_2  inf  ur  fac  \n",
       "0     12      12      2     4   NaN    3   1  103  \n",
       "1     12      12      2     4   NaN    1   1  103  \n",
       "2     12      12      2     4   NaN    3   1  103  \n",
       "3     12      12      2     4   NaN    3   1  103  \n",
       "4     12      12      2     4   NaN    1   1  103  \n",
       "\n",
       "[5 rows x 31 columns]"
      ]
     },
     "execution_count": 20,
     "metadata": {},
     "output_type": "execute_result"
    }
   ],
   "source": [
    "path_hogt113 = 'C:/Users/sala5/Desktop/ENOE/2013/hogt113.csv'\n",
    "df_hogt113 = pd.read_csv(path_hogt113, low_memory=False, encoding='latin')\n",
    "df_hogt113.head()"
   ]
  },
  {
   "cell_type": "code",
   "execution_count": 21,
   "metadata": {
    "collapsed": false
   },
   "outputs": [
    {
     "data": {
      "text/html": [
       "<div>\n",
       "<table border=\"1\" class=\"dataframe\">\n",
       "  <thead>\n",
       "    <tr style=\"text-align: right;\">\n",
       "      <th></th>\n",
       "      <th>loc</th>\n",
       "      <th>mun</th>\n",
       "      <th>est</th>\n",
       "      <th>est_d</th>\n",
       "      <th>ageb</th>\n",
       "      <th>t_loc</th>\n",
       "      <th>cd_a</th>\n",
       "      <th>ent</th>\n",
       "      <th>con</th>\n",
       "      <th>upm</th>\n",
       "      <th>...</th>\n",
       "      <th>r_def</th>\n",
       "      <th>d_dia</th>\n",
       "      <th>d_mes</th>\n",
       "      <th>d_anio</th>\n",
       "      <th>e_obs</th>\n",
       "      <th>p4_1</th>\n",
       "      <th>p4_2</th>\n",
       "      <th>inf</th>\n",
       "      <th>ur</th>\n",
       "      <th>fac</th>\n",
       "    </tr>\n",
       "  </thead>\n",
       "  <tbody>\n",
       "    <tr>\n",
       "      <th>0</th>\n",
       "      <td>1</td>\n",
       "      <td>1</td>\n",
       "      <td>32</td>\n",
       "      <td>1121</td>\n",
       "      <td>0</td>\n",
       "      <td>1</td>\n",
       "      <td>14</td>\n",
       "      <td>1</td>\n",
       "      <td>1</td>\n",
       "      <td>802</td>\n",
       "      <td>...</td>\n",
       "      <td>0</td>\n",
       "      <td>2</td>\n",
       "      <td>4</td>\n",
       "      <td>13</td>\n",
       "      <td>2</td>\n",
       "      <td>4</td>\n",
       "      <td>NaN</td>\n",
       "      <td>2</td>\n",
       "      <td>1</td>\n",
       "      <td>104</td>\n",
       "    </tr>\n",
       "    <tr>\n",
       "      <th>1</th>\n",
       "      <td>1</td>\n",
       "      <td>1</td>\n",
       "      <td>32</td>\n",
       "      <td>1121</td>\n",
       "      <td>0</td>\n",
       "      <td>1</td>\n",
       "      <td>14</td>\n",
       "      <td>1</td>\n",
       "      <td>1</td>\n",
       "      <td>802</td>\n",
       "      <td>...</td>\n",
       "      <td>0</td>\n",
       "      <td>1</td>\n",
       "      <td>4</td>\n",
       "      <td>13</td>\n",
       "      <td>2</td>\n",
       "      <td>4</td>\n",
       "      <td>NaN</td>\n",
       "      <td>2</td>\n",
       "      <td>1</td>\n",
       "      <td>104</td>\n",
       "    </tr>\n",
       "    <tr>\n",
       "      <th>2</th>\n",
       "      <td>1</td>\n",
       "      <td>1</td>\n",
       "      <td>32</td>\n",
       "      <td>1121</td>\n",
       "      <td>0</td>\n",
       "      <td>1</td>\n",
       "      <td>14</td>\n",
       "      <td>1</td>\n",
       "      <td>1</td>\n",
       "      <td>802</td>\n",
       "      <td>...</td>\n",
       "      <td>0</td>\n",
       "      <td>1</td>\n",
       "      <td>4</td>\n",
       "      <td>13</td>\n",
       "      <td>2</td>\n",
       "      <td>4</td>\n",
       "      <td>NaN</td>\n",
       "      <td>2</td>\n",
       "      <td>1</td>\n",
       "      <td>104</td>\n",
       "    </tr>\n",
       "    <tr>\n",
       "      <th>3</th>\n",
       "      <td>1</td>\n",
       "      <td>1</td>\n",
       "      <td>32</td>\n",
       "      <td>1121</td>\n",
       "      <td>0</td>\n",
       "      <td>1</td>\n",
       "      <td>14</td>\n",
       "      <td>1</td>\n",
       "      <td>1</td>\n",
       "      <td>802</td>\n",
       "      <td>...</td>\n",
       "      <td>0</td>\n",
       "      <td>5</td>\n",
       "      <td>4</td>\n",
       "      <td>13</td>\n",
       "      <td>2</td>\n",
       "      <td>4</td>\n",
       "      <td>NaN</td>\n",
       "      <td>1</td>\n",
       "      <td>1</td>\n",
       "      <td>104</td>\n",
       "    </tr>\n",
       "    <tr>\n",
       "      <th>4</th>\n",
       "      <td>1</td>\n",
       "      <td>1</td>\n",
       "      <td>32</td>\n",
       "      <td>1121</td>\n",
       "      <td>0</td>\n",
       "      <td>1</td>\n",
       "      <td>14</td>\n",
       "      <td>1</td>\n",
       "      <td>1</td>\n",
       "      <td>802</td>\n",
       "      <td>...</td>\n",
       "      <td>0</td>\n",
       "      <td>2</td>\n",
       "      <td>4</td>\n",
       "      <td>13</td>\n",
       "      <td>2</td>\n",
       "      <td>4</td>\n",
       "      <td>NaN</td>\n",
       "      <td>3</td>\n",
       "      <td>1</td>\n",
       "      <td>104</td>\n",
       "    </tr>\n",
       "  </tbody>\n",
       "</table>\n",
       "<p>5 rows × 31 columns</p>\n",
       "</div>"
      ],
      "text/plain": [
       "   loc  mun  est  est_d  ageb  t_loc  cd_a  ent  con  upm ...   r_def  d_dia  \\\n",
       "0    1    1   32   1121     0      1    14    1    1  802 ...       0      2   \n",
       "1    1    1   32   1121     0      1    14    1    1  802 ...       0      1   \n",
       "2    1    1   32   1121     0      1    14    1    1  802 ...       0      1   \n",
       "3    1    1   32   1121     0      1    14    1    1  802 ...       0      5   \n",
       "4    1    1   32   1121     0      1    14    1    1  802 ...       0      2   \n",
       "\n",
       "   d_mes  d_anio  e_obs  p4_1  p4_2  inf  ur  fac  \n",
       "0      4      13      2     4   NaN    2   1  104  \n",
       "1      4      13      2     4   NaN    2   1  104  \n",
       "2      4      13      2     4   NaN    2   1  104  \n",
       "3      4      13      2     4   NaN    1   1  104  \n",
       "4      4      13      2     4   NaN    3   1  104  \n",
       "\n",
       "[5 rows x 31 columns]"
      ]
     },
     "execution_count": 21,
     "metadata": {},
     "output_type": "execute_result"
    }
   ],
   "source": [
    "path_hogt213 = 'C:/Users/sala5/Desktop/ENOE/2013/hogt213.csv'\n",
    "df_hogt213 = pd.read_csv(path_hogt213, low_memory=False, encoding='latin')\n",
    "df_hogt213.head()"
   ]
  },
  {
   "cell_type": "code",
   "execution_count": 22,
   "metadata": {
    "collapsed": false
   },
   "outputs": [
    {
     "data": {
      "text/html": [
       "<div>\n",
       "<table border=\"1\" class=\"dataframe\">\n",
       "  <thead>\n",
       "    <tr style=\"text-align: right;\">\n",
       "      <th></th>\n",
       "      <th>loc</th>\n",
       "      <th>mun</th>\n",
       "      <th>est</th>\n",
       "      <th>est_d</th>\n",
       "      <th>ageb</th>\n",
       "      <th>t_loc</th>\n",
       "      <th>cd_a</th>\n",
       "      <th>ent</th>\n",
       "      <th>con</th>\n",
       "      <th>upm</th>\n",
       "      <th>...</th>\n",
       "      <th>r_def</th>\n",
       "      <th>d_dia</th>\n",
       "      <th>d_mes</th>\n",
       "      <th>d_anio</th>\n",
       "      <th>e_obs</th>\n",
       "      <th>p4_1</th>\n",
       "      <th>p4_2</th>\n",
       "      <th>inf</th>\n",
       "      <th>ur</th>\n",
       "      <th>fac</th>\n",
       "    </tr>\n",
       "  </thead>\n",
       "  <tbody>\n",
       "    <tr>\n",
       "      <th>0</th>\n",
       "      <td>1</td>\n",
       "      <td>1</td>\n",
       "      <td>32</td>\n",
       "      <td>1121</td>\n",
       "      <td>0</td>\n",
       "      <td>1</td>\n",
       "      <td>14</td>\n",
       "      <td>1</td>\n",
       "      <td>1</td>\n",
       "      <td>802</td>\n",
       "      <td>...</td>\n",
       "      <td>0</td>\n",
       "      <td>2</td>\n",
       "      <td>7</td>\n",
       "      <td>13</td>\n",
       "      <td>2</td>\n",
       "      <td>4</td>\n",
       "      <td>NaN</td>\n",
       "      <td>2</td>\n",
       "      <td>1</td>\n",
       "      <td>103</td>\n",
       "    </tr>\n",
       "    <tr>\n",
       "      <th>1</th>\n",
       "      <td>1</td>\n",
       "      <td>1</td>\n",
       "      <td>32</td>\n",
       "      <td>1121</td>\n",
       "      <td>0</td>\n",
       "      <td>1</td>\n",
       "      <td>14</td>\n",
       "      <td>1</td>\n",
       "      <td>1</td>\n",
       "      <td>802</td>\n",
       "      <td>...</td>\n",
       "      <td>0</td>\n",
       "      <td>4</td>\n",
       "      <td>7</td>\n",
       "      <td>13</td>\n",
       "      <td>2</td>\n",
       "      <td>4</td>\n",
       "      <td>NaN</td>\n",
       "      <td>1</td>\n",
       "      <td>1</td>\n",
       "      <td>103</td>\n",
       "    </tr>\n",
       "    <tr>\n",
       "      <th>2</th>\n",
       "      <td>1</td>\n",
       "      <td>1</td>\n",
       "      <td>32</td>\n",
       "      <td>1121</td>\n",
       "      <td>0</td>\n",
       "      <td>1</td>\n",
       "      <td>14</td>\n",
       "      <td>1</td>\n",
       "      <td>1</td>\n",
       "      <td>802</td>\n",
       "      <td>...</td>\n",
       "      <td>0</td>\n",
       "      <td>6</td>\n",
       "      <td>7</td>\n",
       "      <td>13</td>\n",
       "      <td>2</td>\n",
       "      <td>4</td>\n",
       "      <td>NaN</td>\n",
       "      <td>2</td>\n",
       "      <td>1</td>\n",
       "      <td>103</td>\n",
       "    </tr>\n",
       "    <tr>\n",
       "      <th>3</th>\n",
       "      <td>1</td>\n",
       "      <td>1</td>\n",
       "      <td>32</td>\n",
       "      <td>1121</td>\n",
       "      <td>0</td>\n",
       "      <td>1</td>\n",
       "      <td>14</td>\n",
       "      <td>1</td>\n",
       "      <td>1</td>\n",
       "      <td>802</td>\n",
       "      <td>...</td>\n",
       "      <td>0</td>\n",
       "      <td>7</td>\n",
       "      <td>7</td>\n",
       "      <td>13</td>\n",
       "      <td>2</td>\n",
       "      <td>4</td>\n",
       "      <td>NaN</td>\n",
       "      <td>2</td>\n",
       "      <td>1</td>\n",
       "      <td>103</td>\n",
       "    </tr>\n",
       "    <tr>\n",
       "      <th>4</th>\n",
       "      <td>1</td>\n",
       "      <td>1</td>\n",
       "      <td>32</td>\n",
       "      <td>1121</td>\n",
       "      <td>0</td>\n",
       "      <td>1</td>\n",
       "      <td>14</td>\n",
       "      <td>1</td>\n",
       "      <td>1</td>\n",
       "      <td>802</td>\n",
       "      <td>...</td>\n",
       "      <td>6</td>\n",
       "      <td>11</td>\n",
       "      <td>7</td>\n",
       "      <td>13</td>\n",
       "      <td></td>\n",
       "      <td></td>\n",
       "      <td>NaN</td>\n",
       "      <td>0</td>\n",
       "      <td>1</td>\n",
       "      <td>103</td>\n",
       "    </tr>\n",
       "  </tbody>\n",
       "</table>\n",
       "<p>5 rows × 31 columns</p>\n",
       "</div>"
      ],
      "text/plain": [
       "   loc  mun  est  est_d  ageb  t_loc  cd_a  ent  con  upm ...   r_def  d_dia  \\\n",
       "0    1    1   32   1121     0      1    14    1    1  802 ...       0      2   \n",
       "1    1    1   32   1121     0      1    14    1    1  802 ...       0      4   \n",
       "2    1    1   32   1121     0      1    14    1    1  802 ...       0      6   \n",
       "3    1    1   32   1121     0      1    14    1    1  802 ...       0      7   \n",
       "4    1    1   32   1121     0      1    14    1    1  802 ...       6     11   \n",
       "\n",
       "   d_mes  d_anio  e_obs  p4_1  p4_2  inf  ur  fac  \n",
       "0      7      13      2     4   NaN    2   1  103  \n",
       "1      7      13      2     4   NaN    1   1  103  \n",
       "2      7      13      2     4   NaN    2   1  103  \n",
       "3      7      13      2     4   NaN    2   1  103  \n",
       "4      7      13                NaN    0   1  103  \n",
       "\n",
       "[5 rows x 31 columns]"
      ]
     },
     "execution_count": 22,
     "metadata": {},
     "output_type": "execute_result"
    }
   ],
   "source": [
    "path_hogt313 = 'C:/Users/sala5/Desktop/ENOE/2013/hogt313.csv'\n",
    "df_hogt313 = pd.read_csv(path_hogt313, low_memory=False, encoding='latin')\n",
    "df_hogt313.head()"
   ]
  },
  {
   "cell_type": "code",
   "execution_count": 23,
   "metadata": {
    "collapsed": false
   },
   "outputs": [
    {
     "data": {
      "text/html": [
       "<div>\n",
       "<table border=\"1\" class=\"dataframe\">\n",
       "  <thead>\n",
       "    <tr style=\"text-align: right;\">\n",
       "      <th></th>\n",
       "      <th>loc</th>\n",
       "      <th>mun</th>\n",
       "      <th>est</th>\n",
       "      <th>est_d</th>\n",
       "      <th>ageb</th>\n",
       "      <th>t_loc</th>\n",
       "      <th>cd_a</th>\n",
       "      <th>ent</th>\n",
       "      <th>con</th>\n",
       "      <th>upm</th>\n",
       "      <th>...</th>\n",
       "      <th>r_def</th>\n",
       "      <th>d_dia</th>\n",
       "      <th>d_mes</th>\n",
       "      <th>d_anio</th>\n",
       "      <th>e_obs</th>\n",
       "      <th>p4_1</th>\n",
       "      <th>p4_2</th>\n",
       "      <th>inf</th>\n",
       "      <th>ur</th>\n",
       "      <th>fac</th>\n",
       "    </tr>\n",
       "  </thead>\n",
       "  <tbody>\n",
       "    <tr>\n",
       "      <th>0</th>\n",
       "      <td>1</td>\n",
       "      <td>1</td>\n",
       "      <td>32</td>\n",
       "      <td>1121</td>\n",
       "      <td>0</td>\n",
       "      <td>1</td>\n",
       "      <td>14</td>\n",
       "      <td>1</td>\n",
       "      <td>1</td>\n",
       "      <td>802</td>\n",
       "      <td>...</td>\n",
       "      <td>0</td>\n",
       "      <td>3</td>\n",
       "      <td>10</td>\n",
       "      <td>13</td>\n",
       "      <td>2</td>\n",
       "      <td>4</td>\n",
       "      <td>NaN</td>\n",
       "      <td>1</td>\n",
       "      <td>1</td>\n",
       "      <td>97</td>\n",
       "    </tr>\n",
       "    <tr>\n",
       "      <th>1</th>\n",
       "      <td>1</td>\n",
       "      <td>1</td>\n",
       "      <td>32</td>\n",
       "      <td>1121</td>\n",
       "      <td>0</td>\n",
       "      <td>1</td>\n",
       "      <td>14</td>\n",
       "      <td>1</td>\n",
       "      <td>1</td>\n",
       "      <td>802</td>\n",
       "      <td>...</td>\n",
       "      <td>0</td>\n",
       "      <td>1</td>\n",
       "      <td>10</td>\n",
       "      <td>13</td>\n",
       "      <td>2</td>\n",
       "      <td>4</td>\n",
       "      <td>NaN</td>\n",
       "      <td>1</td>\n",
       "      <td>1</td>\n",
       "      <td>97</td>\n",
       "    </tr>\n",
       "    <tr>\n",
       "      <th>2</th>\n",
       "      <td>1</td>\n",
       "      <td>1</td>\n",
       "      <td>32</td>\n",
       "      <td>1121</td>\n",
       "      <td>0</td>\n",
       "      <td>1</td>\n",
       "      <td>14</td>\n",
       "      <td>1</td>\n",
       "      <td>1</td>\n",
       "      <td>802</td>\n",
       "      <td>...</td>\n",
       "      <td>0</td>\n",
       "      <td>3</td>\n",
       "      <td>10</td>\n",
       "      <td>13</td>\n",
       "      <td>2</td>\n",
       "      <td>4</td>\n",
       "      <td>NaN</td>\n",
       "      <td>97</td>\n",
       "      <td>1</td>\n",
       "      <td>97</td>\n",
       "    </tr>\n",
       "    <tr>\n",
       "      <th>3</th>\n",
       "      <td>1</td>\n",
       "      <td>1</td>\n",
       "      <td>32</td>\n",
       "      <td>1121</td>\n",
       "      <td>0</td>\n",
       "      <td>1</td>\n",
       "      <td>14</td>\n",
       "      <td>1</td>\n",
       "      <td>1</td>\n",
       "      <td>802</td>\n",
       "      <td>...</td>\n",
       "      <td>0</td>\n",
       "      <td>3</td>\n",
       "      <td>10</td>\n",
       "      <td>13</td>\n",
       "      <td>2</td>\n",
       "      <td>4</td>\n",
       "      <td>NaN</td>\n",
       "      <td>1</td>\n",
       "      <td>1</td>\n",
       "      <td>97</td>\n",
       "    </tr>\n",
       "    <tr>\n",
       "      <th>4</th>\n",
       "      <td>1</td>\n",
       "      <td>1</td>\n",
       "      <td>32</td>\n",
       "      <td>1121</td>\n",
       "      <td>0</td>\n",
       "      <td>1</td>\n",
       "      <td>14</td>\n",
       "      <td>1</td>\n",
       "      <td>1</td>\n",
       "      <td>802</td>\n",
       "      <td>...</td>\n",
       "      <td>0</td>\n",
       "      <td>3</td>\n",
       "      <td>10</td>\n",
       "      <td>13</td>\n",
       "      <td>2</td>\n",
       "      <td>4</td>\n",
       "      <td>NaN</td>\n",
       "      <td>1</td>\n",
       "      <td>1</td>\n",
       "      <td>97</td>\n",
       "    </tr>\n",
       "  </tbody>\n",
       "</table>\n",
       "<p>5 rows × 31 columns</p>\n",
       "</div>"
      ],
      "text/plain": [
       "   loc  mun  est  est_d  ageb  t_loc  cd_a  ent  con  upm ...   r_def  d_dia  \\\n",
       "0    1    1   32   1121     0      1    14    1    1  802 ...       0      3   \n",
       "1    1    1   32   1121     0      1    14    1    1  802 ...       0      1   \n",
       "2    1    1   32   1121     0      1    14    1    1  802 ...       0      3   \n",
       "3    1    1   32   1121     0      1    14    1    1  802 ...       0      3   \n",
       "4    1    1   32   1121     0      1    14    1    1  802 ...       0      3   \n",
       "\n",
       "   d_mes  d_anio  e_obs  p4_1  p4_2  inf  ur  fac  \n",
       "0     10      13      2     4   NaN    1   1   97  \n",
       "1     10      13      2     4   NaN    1   1   97  \n",
       "2     10      13      2     4   NaN   97   1   97  \n",
       "3     10      13      2     4   NaN    1   1   97  \n",
       "4     10      13      2     4   NaN    1   1   97  \n",
       "\n",
       "[5 rows x 31 columns]"
      ]
     },
     "execution_count": 23,
     "metadata": {},
     "output_type": "execute_result"
    }
   ],
   "source": [
    "path_hogt413 = 'C:/Users/sala5/Desktop/ENOE/2013/hogt413.csv'\n",
    "df_hogt413 = pd.read_csv(path_hogt413, low_memory=False, encoding='latin')\n",
    "df_hogt413.head()"
   ]
  },
  {
   "cell_type": "code",
   "execution_count": 24,
   "metadata": {
    "collapsed": true
   },
   "outputs": [],
   "source": [
    "df_copy_hogt113 = df_hogt113.copy()\n",
    "df_copy_hogt213 = df_hogt213.copy()\n",
    "df_copy_hogt313 = df_hogt313.copy()\n",
    "df_copy_hogt413 = df_hogt413.copy()"
   ]
  },
  {
   "cell_type": "code",
   "execution_count": 25,
   "metadata": {
    "collapsed": false
   },
   "outputs": [
    {
     "name": "stdout",
     "output_type": "stream",
     "text": [
      "hogt113:  (121359, 31)\n",
      "hogt213:  (121270, 31)\n",
      "hogt313:  (121190, 31)\n",
      "hogt413:  (121116, 31)\n",
      "total:  484935\n"
     ]
    }
   ],
   "source": [
    "print('hogt113: ', df_copy_hogt113.shape)\n",
    "print('hogt213: ', df_copy_hogt213.shape)\n",
    "print('hogt313: ', df_copy_hogt313.shape)\n",
    "print('hogt413: ', df_copy_hogt413.shape)\n",
    "print('total: ', \n",
    "      df_copy_hogt113.shape[0]+\n",
    "      df_copy_hogt213.shape[0]+\n",
    "      df_copy_hogt313.shape[0]+\n",
    "      df_copy_hogt413.shape[0])"
   ]
  },
  {
   "cell_type": "code",
   "execution_count": 26,
   "metadata": {
    "collapsed": false
   },
   "outputs": [
    {
     "data": {
      "text/plain": [
       "(484935, 31)"
      ]
     },
     "execution_count": 26,
     "metadata": {},
     "output_type": "execute_result"
    }
   ],
   "source": [
    "#concatenar\n",
    "frames = [df_copy_hogt113, \n",
    "          df_copy_hogt213, \n",
    "          df_copy_hogt313, \n",
    "          df_copy_hogt413]\n",
    "\n",
    "df_hogt_2013 = pd.concat(frames)\n",
    "df_hogt_2013.shape"
   ]
  },
  {
   "cell_type": "code",
   "execution_count": 27,
   "metadata": {
    "collapsed": true
   },
   "outputs": [],
   "source": [
    "#exportar csv\n",
    "\n",
    "path_df_hogt_2013 = 'C:/Users/sala5/Desktop/ENOE/2013/hogt_2013.csv'\n",
    "\n",
    "df_hogt_2013.to_csv(path_or_buf=path_df_hogt_2013, index=True, encoding='utf-8')"
   ]
  },
  {
   "cell_type": "markdown",
   "metadata": {},
   "source": [
    "## 2014"
   ]
  },
  {
   "cell_type": "code",
   "execution_count": 28,
   "metadata": {
    "collapsed": false
   },
   "outputs": [
    {
     "data": {
      "text/html": [
       "<div>\n",
       "<table border=\"1\" class=\"dataframe\">\n",
       "  <thead>\n",
       "    <tr style=\"text-align: right;\">\n",
       "      <th></th>\n",
       "      <th>loc</th>\n",
       "      <th>mun</th>\n",
       "      <th>est</th>\n",
       "      <th>est_d</th>\n",
       "      <th>ageb</th>\n",
       "      <th>t_loc</th>\n",
       "      <th>cd_a</th>\n",
       "      <th>ent</th>\n",
       "      <th>con</th>\n",
       "      <th>upm</th>\n",
       "      <th>...</th>\n",
       "      <th>r_def</th>\n",
       "      <th>d_dia</th>\n",
       "      <th>d_mes</th>\n",
       "      <th>d_anio</th>\n",
       "      <th>e_obs</th>\n",
       "      <th>p4_1</th>\n",
       "      <th>p4_2</th>\n",
       "      <th>inf</th>\n",
       "      <th>ur</th>\n",
       "      <th>fac</th>\n",
       "    </tr>\n",
       "  </thead>\n",
       "  <tbody>\n",
       "    <tr>\n",
       "      <th>0</th>\n",
       "      <td>1</td>\n",
       "      <td>1</td>\n",
       "      <td>30</td>\n",
       "      <td>2</td>\n",
       "      <td>0</td>\n",
       "      <td>1</td>\n",
       "      <td>14</td>\n",
       "      <td>1</td>\n",
       "      <td>40001</td>\n",
       "      <td>100377</td>\n",
       "      <td>...</td>\n",
       "      <td>0</td>\n",
       "      <td>30</td>\n",
       "      <td>12</td>\n",
       "      <td>13</td>\n",
       "      <td>2</td>\n",
       "      <td>4</td>\n",
       "      <td>NaN</td>\n",
       "      <td>1</td>\n",
       "      <td>1</td>\n",
       "      <td>106</td>\n",
       "    </tr>\n",
       "    <tr>\n",
       "      <th>1</th>\n",
       "      <td>1</td>\n",
       "      <td>1</td>\n",
       "      <td>30</td>\n",
       "      <td>2</td>\n",
       "      <td>0</td>\n",
       "      <td>1</td>\n",
       "      <td>14</td>\n",
       "      <td>1</td>\n",
       "      <td>40001</td>\n",
       "      <td>100377</td>\n",
       "      <td>...</td>\n",
       "      <td>0</td>\n",
       "      <td>30</td>\n",
       "      <td>12</td>\n",
       "      <td>13</td>\n",
       "      <td>2</td>\n",
       "      <td>4</td>\n",
       "      <td>NaN</td>\n",
       "      <td>3</td>\n",
       "      <td>1</td>\n",
       "      <td>106</td>\n",
       "    </tr>\n",
       "    <tr>\n",
       "      <th>2</th>\n",
       "      <td>1</td>\n",
       "      <td>1</td>\n",
       "      <td>30</td>\n",
       "      <td>2</td>\n",
       "      <td>0</td>\n",
       "      <td>1</td>\n",
       "      <td>14</td>\n",
       "      <td>1</td>\n",
       "      <td>40001</td>\n",
       "      <td>100377</td>\n",
       "      <td>...</td>\n",
       "      <td>0</td>\n",
       "      <td>2</td>\n",
       "      <td>1</td>\n",
       "      <td>14</td>\n",
       "      <td>2</td>\n",
       "      <td>4</td>\n",
       "      <td>NaN</td>\n",
       "      <td>4</td>\n",
       "      <td>1</td>\n",
       "      <td>106</td>\n",
       "    </tr>\n",
       "    <tr>\n",
       "      <th>3</th>\n",
       "      <td>1</td>\n",
       "      <td>1</td>\n",
       "      <td>30</td>\n",
       "      <td>2</td>\n",
       "      <td>0</td>\n",
       "      <td>1</td>\n",
       "      <td>14</td>\n",
       "      <td>1</td>\n",
       "      <td>40001</td>\n",
       "      <td>100377</td>\n",
       "      <td>...</td>\n",
       "      <td>0</td>\n",
       "      <td>12</td>\n",
       "      <td>1</td>\n",
       "      <td>14</td>\n",
       "      <td>2</td>\n",
       "      <td>4</td>\n",
       "      <td>NaN</td>\n",
       "      <td>2</td>\n",
       "      <td>1</td>\n",
       "      <td>106</td>\n",
       "    </tr>\n",
       "    <tr>\n",
       "      <th>4</th>\n",
       "      <td>1</td>\n",
       "      <td>1</td>\n",
       "      <td>30</td>\n",
       "      <td>2</td>\n",
       "      <td>0</td>\n",
       "      <td>1</td>\n",
       "      <td>14</td>\n",
       "      <td>1</td>\n",
       "      <td>40001</td>\n",
       "      <td>100377</td>\n",
       "      <td>...</td>\n",
       "      <td>0</td>\n",
       "      <td>31</td>\n",
       "      <td>12</td>\n",
       "      <td>13</td>\n",
       "      <td>2</td>\n",
       "      <td>4</td>\n",
       "      <td>NaN</td>\n",
       "      <td>97</td>\n",
       "      <td>1</td>\n",
       "      <td>106</td>\n",
       "    </tr>\n",
       "  </tbody>\n",
       "</table>\n",
       "<p>5 rows × 31 columns</p>\n",
       "</div>"
      ],
      "text/plain": [
       "   loc  mun  est  est_d  ageb  t_loc  cd_a  ent    con     upm ...   r_def  \\\n",
       "0    1    1   30      2     0      1    14    1  40001  100377 ...       0   \n",
       "1    1    1   30      2     0      1    14    1  40001  100377 ...       0   \n",
       "2    1    1   30      2     0      1    14    1  40001  100377 ...       0   \n",
       "3    1    1   30      2     0      1    14    1  40001  100377 ...       0   \n",
       "4    1    1   30      2     0      1    14    1  40001  100377 ...       0   \n",
       "\n",
       "   d_dia  d_mes  d_anio  e_obs  p4_1  p4_2  inf  ur  fac  \n",
       "0     30     12      13      2     4   NaN    1   1  106  \n",
       "1     30     12      13      2     4   NaN    3   1  106  \n",
       "2      2      1      14      2     4   NaN    4   1  106  \n",
       "3     12      1      14      2     4   NaN    2   1  106  \n",
       "4     31     12      13      2     4   NaN   97   1  106  \n",
       "\n",
       "[5 rows x 31 columns]"
      ]
     },
     "execution_count": 28,
     "metadata": {},
     "output_type": "execute_result"
    }
   ],
   "source": [
    "path_hogt114 = 'C:/Users/sala5/Desktop/ENOE/2014/hogt114.csv'\n",
    "df_hogt114 = pd.read_csv(path_hogt114, low_memory=False, encoding='latin')\n",
    "df_hogt114.head()"
   ]
  },
  {
   "cell_type": "code",
   "execution_count": 29,
   "metadata": {
    "collapsed": false
   },
   "outputs": [
    {
     "data": {
      "text/html": [
       "<div>\n",
       "<table border=\"1\" class=\"dataframe\">\n",
       "  <thead>\n",
       "    <tr style=\"text-align: right;\">\n",
       "      <th></th>\n",
       "      <th>loc</th>\n",
       "      <th>mun</th>\n",
       "      <th>est</th>\n",
       "      <th>est_d</th>\n",
       "      <th>ageb</th>\n",
       "      <th>t_loc</th>\n",
       "      <th>cd_a</th>\n",
       "      <th>ent</th>\n",
       "      <th>con</th>\n",
       "      <th>upm</th>\n",
       "      <th>...</th>\n",
       "      <th>r_def</th>\n",
       "      <th>d_dia</th>\n",
       "      <th>d_mes</th>\n",
       "      <th>d_anio</th>\n",
       "      <th>e_obs</th>\n",
       "      <th>p4_1</th>\n",
       "      <th>p4_2</th>\n",
       "      <th>inf</th>\n",
       "      <th>ur</th>\n",
       "      <th>fac</th>\n",
       "    </tr>\n",
       "  </thead>\n",
       "  <tbody>\n",
       "    <tr>\n",
       "      <th>0</th>\n",
       "      <td>1</td>\n",
       "      <td>1</td>\n",
       "      <td>30</td>\n",
       "      <td>2</td>\n",
       "      <td>0</td>\n",
       "      <td>1</td>\n",
       "      <td>14</td>\n",
       "      <td>1</td>\n",
       "      <td>40001</td>\n",
       "      <td>100377</td>\n",
       "      <td>...</td>\n",
       "      <td>0</td>\n",
       "      <td>1</td>\n",
       "      <td>4</td>\n",
       "      <td>14</td>\n",
       "      <td>2</td>\n",
       "      <td>4</td>\n",
       "      <td>NaN</td>\n",
       "      <td>3</td>\n",
       "      <td>1</td>\n",
       "      <td>107</td>\n",
       "    </tr>\n",
       "    <tr>\n",
       "      <th>1</th>\n",
       "      <td>1</td>\n",
       "      <td>1</td>\n",
       "      <td>30</td>\n",
       "      <td>2</td>\n",
       "      <td>0</td>\n",
       "      <td>1</td>\n",
       "      <td>14</td>\n",
       "      <td>1</td>\n",
       "      <td>40001</td>\n",
       "      <td>100377</td>\n",
       "      <td>...</td>\n",
       "      <td>0</td>\n",
       "      <td>1</td>\n",
       "      <td>4</td>\n",
       "      <td>14</td>\n",
       "      <td>2</td>\n",
       "      <td>4</td>\n",
       "      <td>NaN</td>\n",
       "      <td>3</td>\n",
       "      <td>1</td>\n",
       "      <td>107</td>\n",
       "    </tr>\n",
       "    <tr>\n",
       "      <th>2</th>\n",
       "      <td>1</td>\n",
       "      <td>1</td>\n",
       "      <td>30</td>\n",
       "      <td>2</td>\n",
       "      <td>0</td>\n",
       "      <td>1</td>\n",
       "      <td>14</td>\n",
       "      <td>1</td>\n",
       "      <td>40001</td>\n",
       "      <td>100377</td>\n",
       "      <td>...</td>\n",
       "      <td>0</td>\n",
       "      <td>4</td>\n",
       "      <td>4</td>\n",
       "      <td>14</td>\n",
       "      <td>2</td>\n",
       "      <td>4</td>\n",
       "      <td>NaN</td>\n",
       "      <td>2</td>\n",
       "      <td>1</td>\n",
       "      <td>107</td>\n",
       "    </tr>\n",
       "    <tr>\n",
       "      <th>3</th>\n",
       "      <td>1</td>\n",
       "      <td>1</td>\n",
       "      <td>30</td>\n",
       "      <td>2</td>\n",
       "      <td>0</td>\n",
       "      <td>1</td>\n",
       "      <td>14</td>\n",
       "      <td>1</td>\n",
       "      <td>40001</td>\n",
       "      <td>100377</td>\n",
       "      <td>...</td>\n",
       "      <td>0</td>\n",
       "      <td>1</td>\n",
       "      <td>4</td>\n",
       "      <td>14</td>\n",
       "      <td>2</td>\n",
       "      <td>4</td>\n",
       "      <td>NaN</td>\n",
       "      <td>2</td>\n",
       "      <td>1</td>\n",
       "      <td>107</td>\n",
       "    </tr>\n",
       "    <tr>\n",
       "      <th>4</th>\n",
       "      <td>1</td>\n",
       "      <td>1</td>\n",
       "      <td>30</td>\n",
       "      <td>2</td>\n",
       "      <td>0</td>\n",
       "      <td>1</td>\n",
       "      <td>14</td>\n",
       "      <td>1</td>\n",
       "      <td>40001</td>\n",
       "      <td>100377</td>\n",
       "      <td>...</td>\n",
       "      <td>0</td>\n",
       "      <td>1</td>\n",
       "      <td>4</td>\n",
       "      <td>14</td>\n",
       "      <td>2</td>\n",
       "      <td>4</td>\n",
       "      <td>NaN</td>\n",
       "      <td>2</td>\n",
       "      <td>1</td>\n",
       "      <td>107</td>\n",
       "    </tr>\n",
       "  </tbody>\n",
       "</table>\n",
       "<p>5 rows × 31 columns</p>\n",
       "</div>"
      ],
      "text/plain": [
       "   loc  mun  est  est_d  ageb  t_loc  cd_a  ent    con     upm ...   r_def  \\\n",
       "0    1    1   30      2     0      1    14    1  40001  100377 ...       0   \n",
       "1    1    1   30      2     0      1    14    1  40001  100377 ...       0   \n",
       "2    1    1   30      2     0      1    14    1  40001  100377 ...       0   \n",
       "3    1    1   30      2     0      1    14    1  40001  100377 ...       0   \n",
       "4    1    1   30      2     0      1    14    1  40001  100377 ...       0   \n",
       "\n",
       "   d_dia  d_mes  d_anio  e_obs  p4_1  p4_2  inf  ur  fac  \n",
       "0      1      4      14      2     4   NaN    3   1  107  \n",
       "1      1      4      14      2     4   NaN    3   1  107  \n",
       "2      4      4      14      2     4   NaN    2   1  107  \n",
       "3      1      4      14      2     4   NaN    2   1  107  \n",
       "4      1      4      14      2     4   NaN    2   1  107  \n",
       "\n",
       "[5 rows x 31 columns]"
      ]
     },
     "execution_count": 29,
     "metadata": {},
     "output_type": "execute_result"
    }
   ],
   "source": [
    "path_hogt214 = 'C:/Users/sala5/Desktop/ENOE/2014/hogt214.csv'\n",
    "df_hogt214 = pd.read_csv(path_hogt214, low_memory=False, encoding='latin')\n",
    "df_hogt214.head()"
   ]
  },
  {
   "cell_type": "code",
   "execution_count": 30,
   "metadata": {
    "collapsed": false
   },
   "outputs": [
    {
     "data": {
      "text/html": [
       "<div>\n",
       "<table border=\"1\" class=\"dataframe\">\n",
       "  <thead>\n",
       "    <tr style=\"text-align: right;\">\n",
       "      <th></th>\n",
       "      <th>loc</th>\n",
       "      <th>mun</th>\n",
       "      <th>est</th>\n",
       "      <th>est_d</th>\n",
       "      <th>ageb</th>\n",
       "      <th>t_loc</th>\n",
       "      <th>cd_a</th>\n",
       "      <th>ent</th>\n",
       "      <th>con</th>\n",
       "      <th>upm</th>\n",
       "      <th>...</th>\n",
       "      <th>r_def</th>\n",
       "      <th>d_dia</th>\n",
       "      <th>d_mes</th>\n",
       "      <th>d_anio</th>\n",
       "      <th>e_obs</th>\n",
       "      <th>p4_1</th>\n",
       "      <th>p4_2</th>\n",
       "      <th>inf</th>\n",
       "      <th>ur</th>\n",
       "      <th>fac</th>\n",
       "    </tr>\n",
       "  </thead>\n",
       "  <tbody>\n",
       "    <tr>\n",
       "      <th>0</th>\n",
       "      <td>1</td>\n",
       "      <td>1</td>\n",
       "      <td>30</td>\n",
       "      <td>2</td>\n",
       "      <td>0</td>\n",
       "      <td>1</td>\n",
       "      <td>14</td>\n",
       "      <td>1</td>\n",
       "      <td>40001</td>\n",
       "      <td>100377</td>\n",
       "      <td>...</td>\n",
       "      <td>0</td>\n",
       "      <td>5</td>\n",
       "      <td>7</td>\n",
       "      <td>14</td>\n",
       "      <td>2</td>\n",
       "      <td>4</td>\n",
       "      <td>NaN</td>\n",
       "      <td>2</td>\n",
       "      <td>1</td>\n",
       "      <td>112</td>\n",
       "    </tr>\n",
       "    <tr>\n",
       "      <th>1</th>\n",
       "      <td>1</td>\n",
       "      <td>1</td>\n",
       "      <td>30</td>\n",
       "      <td>2</td>\n",
       "      <td>0</td>\n",
       "      <td>1</td>\n",
       "      <td>14</td>\n",
       "      <td>1</td>\n",
       "      <td>40001</td>\n",
       "      <td>100377</td>\n",
       "      <td>...</td>\n",
       "      <td>0</td>\n",
       "      <td>1</td>\n",
       "      <td>7</td>\n",
       "      <td>14</td>\n",
       "      <td>2</td>\n",
       "      <td>4</td>\n",
       "      <td>NaN</td>\n",
       "      <td>1</td>\n",
       "      <td>1</td>\n",
       "      <td>112</td>\n",
       "    </tr>\n",
       "    <tr>\n",
       "      <th>2</th>\n",
       "      <td>1</td>\n",
       "      <td>1</td>\n",
       "      <td>30</td>\n",
       "      <td>2</td>\n",
       "      <td>0</td>\n",
       "      <td>1</td>\n",
       "      <td>14</td>\n",
       "      <td>1</td>\n",
       "      <td>40001</td>\n",
       "      <td>100377</td>\n",
       "      <td>...</td>\n",
       "      <td>0</td>\n",
       "      <td>9</td>\n",
       "      <td>7</td>\n",
       "      <td>14</td>\n",
       "      <td>2</td>\n",
       "      <td>4</td>\n",
       "      <td>NaN</td>\n",
       "      <td>3</td>\n",
       "      <td>1</td>\n",
       "      <td>112</td>\n",
       "    </tr>\n",
       "    <tr>\n",
       "      <th>3</th>\n",
       "      <td>1</td>\n",
       "      <td>1</td>\n",
       "      <td>30</td>\n",
       "      <td>2</td>\n",
       "      <td>0</td>\n",
       "      <td>1</td>\n",
       "      <td>14</td>\n",
       "      <td>1</td>\n",
       "      <td>40001</td>\n",
       "      <td>100377</td>\n",
       "      <td>...</td>\n",
       "      <td>0</td>\n",
       "      <td>8</td>\n",
       "      <td>7</td>\n",
       "      <td>14</td>\n",
       "      <td>2</td>\n",
       "      <td>4</td>\n",
       "      <td>NaN</td>\n",
       "      <td>2</td>\n",
       "      <td>1</td>\n",
       "      <td>112</td>\n",
       "    </tr>\n",
       "    <tr>\n",
       "      <th>4</th>\n",
       "      <td>1</td>\n",
       "      <td>1</td>\n",
       "      <td>30</td>\n",
       "      <td>2</td>\n",
       "      <td>0</td>\n",
       "      <td>1</td>\n",
       "      <td>14</td>\n",
       "      <td>1</td>\n",
       "      <td>40001</td>\n",
       "      <td>100377</td>\n",
       "      <td>...</td>\n",
       "      <td>0</td>\n",
       "      <td>5</td>\n",
       "      <td>7</td>\n",
       "      <td>14</td>\n",
       "      <td>2</td>\n",
       "      <td>4</td>\n",
       "      <td>NaN</td>\n",
       "      <td>2</td>\n",
       "      <td>1</td>\n",
       "      <td>112</td>\n",
       "    </tr>\n",
       "  </tbody>\n",
       "</table>\n",
       "<p>5 rows × 31 columns</p>\n",
       "</div>"
      ],
      "text/plain": [
       "   loc  mun  est  est_d  ageb  t_loc  cd_a  ent    con     upm ...   r_def  \\\n",
       "0    1    1   30      2     0      1    14    1  40001  100377 ...       0   \n",
       "1    1    1   30      2     0      1    14    1  40001  100377 ...       0   \n",
       "2    1    1   30      2     0      1    14    1  40001  100377 ...       0   \n",
       "3    1    1   30      2     0      1    14    1  40001  100377 ...       0   \n",
       "4    1    1   30      2     0      1    14    1  40001  100377 ...       0   \n",
       "\n",
       "   d_dia  d_mes  d_anio  e_obs  p4_1  p4_2  inf  ur  fac  \n",
       "0      5      7      14      2     4   NaN    2   1  112  \n",
       "1      1      7      14      2     4   NaN    1   1  112  \n",
       "2      9      7      14      2     4   NaN    3   1  112  \n",
       "3      8      7      14      2     4   NaN    2   1  112  \n",
       "4      5      7      14      2     4   NaN    2   1  112  \n",
       "\n",
       "[5 rows x 31 columns]"
      ]
     },
     "execution_count": 30,
     "metadata": {},
     "output_type": "execute_result"
    }
   ],
   "source": [
    "path_hogt314 = 'C:/Users/sala5/Desktop/ENOE/2014/hogt314.csv'\n",
    "df_hogt314 = pd.read_csv(path_hogt314, low_memory=False, encoding='latin')\n",
    "df_hogt314.head()"
   ]
  },
  {
   "cell_type": "code",
   "execution_count": 31,
   "metadata": {
    "collapsed": false
   },
   "outputs": [
    {
     "data": {
      "text/html": [
       "<div>\n",
       "<table border=\"1\" class=\"dataframe\">\n",
       "  <thead>\n",
       "    <tr style=\"text-align: right;\">\n",
       "      <th></th>\n",
       "      <th>loc</th>\n",
       "      <th>mun</th>\n",
       "      <th>est</th>\n",
       "      <th>est_d</th>\n",
       "      <th>ageb</th>\n",
       "      <th>t_loc</th>\n",
       "      <th>cd_a</th>\n",
       "      <th>ent</th>\n",
       "      <th>con</th>\n",
       "      <th>upm</th>\n",
       "      <th>...</th>\n",
       "      <th>r_def</th>\n",
       "      <th>d_dia</th>\n",
       "      <th>d_mes</th>\n",
       "      <th>d_anio</th>\n",
       "      <th>e_obs</th>\n",
       "      <th>p4_1</th>\n",
       "      <th>p4_2</th>\n",
       "      <th>inf</th>\n",
       "      <th>ur</th>\n",
       "      <th>fac</th>\n",
       "    </tr>\n",
       "  </thead>\n",
       "  <tbody>\n",
       "    <tr>\n",
       "      <th>0</th>\n",
       "      <td>1</td>\n",
       "      <td>1</td>\n",
       "      <td>30</td>\n",
       "      <td>2</td>\n",
       "      <td>0</td>\n",
       "      <td>1</td>\n",
       "      <td>14</td>\n",
       "      <td>1</td>\n",
       "      <td>40001</td>\n",
       "      <td>100377</td>\n",
       "      <td>...</td>\n",
       "      <td>0</td>\n",
       "      <td>1</td>\n",
       "      <td>10</td>\n",
       "      <td>14</td>\n",
       "      <td>2</td>\n",
       "      <td>4</td>\n",
       "      <td>NaN</td>\n",
       "      <td>1</td>\n",
       "      <td>1</td>\n",
       "      <td>110</td>\n",
       "    </tr>\n",
       "    <tr>\n",
       "      <th>1</th>\n",
       "      <td>1</td>\n",
       "      <td>1</td>\n",
       "      <td>30</td>\n",
       "      <td>2</td>\n",
       "      <td>0</td>\n",
       "      <td>1</td>\n",
       "      <td>14</td>\n",
       "      <td>1</td>\n",
       "      <td>40001</td>\n",
       "      <td>100377</td>\n",
       "      <td>...</td>\n",
       "      <td>0</td>\n",
       "      <td>29</td>\n",
       "      <td>9</td>\n",
       "      <td>14</td>\n",
       "      <td>2</td>\n",
       "      <td>4</td>\n",
       "      <td>NaN</td>\n",
       "      <td>3</td>\n",
       "      <td>1</td>\n",
       "      <td>110</td>\n",
       "    </tr>\n",
       "    <tr>\n",
       "      <th>2</th>\n",
       "      <td>1</td>\n",
       "      <td>1</td>\n",
       "      <td>30</td>\n",
       "      <td>2</td>\n",
       "      <td>0</td>\n",
       "      <td>1</td>\n",
       "      <td>14</td>\n",
       "      <td>1</td>\n",
       "      <td>40001</td>\n",
       "      <td>100377</td>\n",
       "      <td>...</td>\n",
       "      <td>0</td>\n",
       "      <td>29</td>\n",
       "      <td>9</td>\n",
       "      <td>14</td>\n",
       "      <td>2</td>\n",
       "      <td>4</td>\n",
       "      <td>NaN</td>\n",
       "      <td>2</td>\n",
       "      <td>1</td>\n",
       "      <td>110</td>\n",
       "    </tr>\n",
       "    <tr>\n",
       "      <th>3</th>\n",
       "      <td>1</td>\n",
       "      <td>1</td>\n",
       "      <td>30</td>\n",
       "      <td>2</td>\n",
       "      <td>0</td>\n",
       "      <td>1</td>\n",
       "      <td>14</td>\n",
       "      <td>1</td>\n",
       "      <td>40001</td>\n",
       "      <td>100377</td>\n",
       "      <td>...</td>\n",
       "      <td>6</td>\n",
       "      <td>7</td>\n",
       "      <td>10</td>\n",
       "      <td>14</td>\n",
       "      <td></td>\n",
       "      <td></td>\n",
       "      <td>NaN</td>\n",
       "      <td>0</td>\n",
       "      <td>1</td>\n",
       "      <td>110</td>\n",
       "    </tr>\n",
       "    <tr>\n",
       "      <th>4</th>\n",
       "      <td>1</td>\n",
       "      <td>1</td>\n",
       "      <td>30</td>\n",
       "      <td>2</td>\n",
       "      <td>0</td>\n",
       "      <td>1</td>\n",
       "      <td>14</td>\n",
       "      <td>1</td>\n",
       "      <td>40001</td>\n",
       "      <td>100377</td>\n",
       "      <td>...</td>\n",
       "      <td>0</td>\n",
       "      <td>29</td>\n",
       "      <td>9</td>\n",
       "      <td>14</td>\n",
       "      <td>2</td>\n",
       "      <td>4</td>\n",
       "      <td>NaN</td>\n",
       "      <td>2</td>\n",
       "      <td>1</td>\n",
       "      <td>110</td>\n",
       "    </tr>\n",
       "  </tbody>\n",
       "</table>\n",
       "<p>5 rows × 31 columns</p>\n",
       "</div>"
      ],
      "text/plain": [
       "   loc  mun  est  est_d  ageb  t_loc  cd_a  ent    con     upm ...   r_def  \\\n",
       "0    1    1   30      2     0      1    14    1  40001  100377 ...       0   \n",
       "1    1    1   30      2     0      1    14    1  40001  100377 ...       0   \n",
       "2    1    1   30      2     0      1    14    1  40001  100377 ...       0   \n",
       "3    1    1   30      2     0      1    14    1  40001  100377 ...       6   \n",
       "4    1    1   30      2     0      1    14    1  40001  100377 ...       0   \n",
       "\n",
       "   d_dia  d_mes  d_anio  e_obs  p4_1  p4_2  inf  ur  fac  \n",
       "0      1     10      14      2     4   NaN    1   1  110  \n",
       "1     29      9      14      2     4   NaN    3   1  110  \n",
       "2     29      9      14      2     4   NaN    2   1  110  \n",
       "3      7     10      14                NaN    0   1  110  \n",
       "4     29      9      14      2     4   NaN    2   1  110  \n",
       "\n",
       "[5 rows x 31 columns]"
      ]
     },
     "execution_count": 31,
     "metadata": {},
     "output_type": "execute_result"
    }
   ],
   "source": [
    "path_hogt414 = 'C:/Users/sala5/Desktop/ENOE/2014/hogt414.csv'\n",
    "df_hogt414 = pd.read_csv(path_hogt414, low_memory=False, encoding='latin')\n",
    "df_hogt414.head()"
   ]
  },
  {
   "cell_type": "code",
   "execution_count": 32,
   "metadata": {
    "collapsed": true
   },
   "outputs": [],
   "source": [
    "df_copy_hogt114 = df_hogt114.copy()\n",
    "df_copy_hogt214 = df_hogt214.copy()\n",
    "df_copy_hogt314 = df_hogt314.copy()\n",
    "df_copy_hogt414 = df_hogt414.copy()"
   ]
  },
  {
   "cell_type": "code",
   "execution_count": 33,
   "metadata": {
    "collapsed": false
   },
   "outputs": [
    {
     "name": "stdout",
     "output_type": "stream",
     "text": [
      "hogt114:  (121085, 31)\n",
      "hogt214:  (121128, 31)\n",
      "hogt314:  (121129, 31)\n",
      "hogt414:  (121100, 31)\n",
      "total:  484442\n"
     ]
    }
   ],
   "source": [
    "print('hogt114: ', df_copy_hogt114.shape)\n",
    "print('hogt214: ', df_copy_hogt214.shape)\n",
    "print('hogt314: ', df_copy_hogt314.shape)\n",
    "print('hogt414: ', df_copy_hogt414.shape)\n",
    "print('total: ', \n",
    "      df_copy_hogt114.shape[0]+\n",
    "      df_copy_hogt214.shape[0]+\n",
    "      df_copy_hogt314.shape[0]+\n",
    "      df_copy_hogt414.shape[0])"
   ]
  },
  {
   "cell_type": "code",
   "execution_count": 34,
   "metadata": {
    "collapsed": false
   },
   "outputs": [
    {
     "data": {
      "text/plain": [
       "(484442, 31)"
      ]
     },
     "execution_count": 34,
     "metadata": {},
     "output_type": "execute_result"
    }
   ],
   "source": [
    "#concatenar\n",
    "frames = [df_copy_hogt114, \n",
    "          df_copy_hogt214, \n",
    "          df_copy_hogt314, \n",
    "          df_copy_hogt414]\n",
    "\n",
    "df_hogt_2014 = pd.concat(frames)\n",
    "df_hogt_2014.shape"
   ]
  },
  {
   "cell_type": "code",
   "execution_count": 35,
   "metadata": {
    "collapsed": true
   },
   "outputs": [],
   "source": [
    "#exportar csv\n",
    "\n",
    "path_df_hogt_2014 = 'C:/Users/sala5/Desktop/ENOE/2014/hogt_2014.csv'\n",
    "\n",
    "df_hogt_2014.to_csv(path_or_buf=path_df_hogt_2014, index=True, encoding='utf-8')"
   ]
  },
  {
   "cell_type": "markdown",
   "metadata": {},
   "source": [
    "## General"
   ]
  },
  {
   "cell_type": "code",
   "execution_count": 36,
   "metadata": {
    "collapsed": false
   },
   "outputs": [
    {
     "name": "stdout",
     "output_type": "stream",
     "text": [
      "(486223, 31)\n",
      "(486335, 31)\n",
      "(484935, 31)\n",
      "(484442, 31)\n",
      "total:  1941935\n"
     ]
    }
   ],
   "source": [
    "print(df_hogt_2011.shape)\n",
    "print(df_hogt_2012.shape)\n",
    "print(df_hogt_2013.shape)\n",
    "print(df_hogt_2014.shape)\n",
    "print(\"total: \", \n",
    "      df_hogt_2011.shape[0]+\n",
    "      df_hogt_2012.shape[0]+\n",
    "      df_hogt_2013.shape[0]+\n",
    "      df_hogt_2014.shape[0])"
   ]
  },
  {
   "cell_type": "code",
   "execution_count": 37,
   "metadata": {
    "collapsed": false
   },
   "outputs": [
    {
     "data": {
      "text/plain": [
       "(1941935, 31)"
      ]
     },
     "execution_count": 37,
     "metadata": {},
     "output_type": "execute_result"
    }
   ],
   "source": [
    "#concatenar\n",
    "frames = [df_hogt_2011, \n",
    "          df_hogt_2012, \n",
    "          df_hogt_2013, \n",
    "          df_hogt_2014]\n",
    "\n",
    "df_hogt = pd.concat(frames)\n",
    "df_hogt.shape"
   ]
  },
  {
   "cell_type": "code",
   "execution_count": 55,
   "metadata": {
    "collapsed": true
   },
   "outputs": [],
   "source": [
    "#exportar csv\n",
    "\n",
    "path_df_hogt = 'C:/Users/sala5/Desktop/ENOE/hogt.csv'\n",
    "\n",
    "df_hogt.to_csv(path_or_buf=path_df_hogt, index=True, encoding='utf-8')"
   ]
  },
  {
   "cell_type": "code",
   "execution_count": 5,
   "metadata": {
    "collapsed": true
   },
   "outputs": [],
   "source": [
    "path_df_hogt = 'C:/Users/sala5/Desktop/ENOE/hogt.csv'"
   ]
  },
  {
   "cell_type": "code",
   "execution_count": 8,
   "metadata": {
    "collapsed": false
   },
   "outputs": [
    {
     "data": {
      "text/html": [
       "<div>\n",
       "<table border=\"1\" class=\"dataframe\">\n",
       "  <thead>\n",
       "    <tr style=\"text-align: right;\">\n",
       "      <th></th>\n",
       "      <th>Unnamed: 0</th>\n",
       "      <th>Unnamed: 0.1</th>\n",
       "      <th>loc</th>\n",
       "      <th>mun</th>\n",
       "      <th>est</th>\n",
       "      <th>est_d</th>\n",
       "      <th>ageb</th>\n",
       "      <th>t_loc</th>\n",
       "      <th>cd_a</th>\n",
       "      <th>ent</th>\n",
       "      <th>...</th>\n",
       "      <th>r_def</th>\n",
       "      <th>d_dia</th>\n",
       "      <th>d_mes</th>\n",
       "      <th>d_anio</th>\n",
       "      <th>e_obs</th>\n",
       "      <th>p4_1</th>\n",
       "      <th>p4_2</th>\n",
       "      <th>inf</th>\n",
       "      <th>ur</th>\n",
       "      <th>fac</th>\n",
       "    </tr>\n",
       "  </thead>\n",
       "  <tbody>\n",
       "    <tr>\n",
       "      <th>0</th>\n",
       "      <td>0</td>\n",
       "      <td>0</td>\n",
       "      <td>1</td>\n",
       "      <td>1</td>\n",
       "      <td>32</td>\n",
       "      <td>121</td>\n",
       "      <td>0</td>\n",
       "      <td>1</td>\n",
       "      <td>14</td>\n",
       "      <td>1</td>\n",
       "      <td>...</td>\n",
       "      <td>0</td>\n",
       "      <td>3</td>\n",
       "      <td>1</td>\n",
       "      <td>11</td>\n",
       "      <td>2</td>\n",
       "      <td>4</td>\n",
       "      <td>0</td>\n",
       "      <td>3</td>\n",
       "      <td>1</td>\n",
       "      <td>100</td>\n",
       "    </tr>\n",
       "    <tr>\n",
       "      <th>1</th>\n",
       "      <td>1</td>\n",
       "      <td>1</td>\n",
       "      <td>1</td>\n",
       "      <td>1</td>\n",
       "      <td>32</td>\n",
       "      <td>121</td>\n",
       "      <td>0</td>\n",
       "      <td>1</td>\n",
       "      <td>14</td>\n",
       "      <td>1</td>\n",
       "      <td>...</td>\n",
       "      <td>0</td>\n",
       "      <td>7</td>\n",
       "      <td>1</td>\n",
       "      <td>11</td>\n",
       "      <td>1</td>\n",
       "      <td>4</td>\n",
       "      <td>0</td>\n",
       "      <td>1</td>\n",
       "      <td>1</td>\n",
       "      <td>100</td>\n",
       "    </tr>\n",
       "    <tr>\n",
       "      <th>2</th>\n",
       "      <td>2</td>\n",
       "      <td>2</td>\n",
       "      <td>1</td>\n",
       "      <td>1</td>\n",
       "      <td>32</td>\n",
       "      <td>121</td>\n",
       "      <td>0</td>\n",
       "      <td>1</td>\n",
       "      <td>14</td>\n",
       "      <td>1</td>\n",
       "      <td>...</td>\n",
       "      <td>0</td>\n",
       "      <td>4</td>\n",
       "      <td>1</td>\n",
       "      <td>11</td>\n",
       "      <td>2</td>\n",
       "      <td>4</td>\n",
       "      <td>0</td>\n",
       "      <td>3</td>\n",
       "      <td>1</td>\n",
       "      <td>100</td>\n",
       "    </tr>\n",
       "    <tr>\n",
       "      <th>3</th>\n",
       "      <td>3</td>\n",
       "      <td>3</td>\n",
       "      <td>1</td>\n",
       "      <td>1</td>\n",
       "      <td>32</td>\n",
       "      <td>121</td>\n",
       "      <td>0</td>\n",
       "      <td>1</td>\n",
       "      <td>14</td>\n",
       "      <td>1</td>\n",
       "      <td>...</td>\n",
       "      <td>0</td>\n",
       "      <td>3</td>\n",
       "      <td>1</td>\n",
       "      <td>11</td>\n",
       "      <td>2</td>\n",
       "      <td>4</td>\n",
       "      <td>0</td>\n",
       "      <td>2</td>\n",
       "      <td>1</td>\n",
       "      <td>100</td>\n",
       "    </tr>\n",
       "    <tr>\n",
       "      <th>4</th>\n",
       "      <td>4</td>\n",
       "      <td>4</td>\n",
       "      <td>1</td>\n",
       "      <td>1</td>\n",
       "      <td>32</td>\n",
       "      <td>121</td>\n",
       "      <td>0</td>\n",
       "      <td>1</td>\n",
       "      <td>14</td>\n",
       "      <td>1</td>\n",
       "      <td>...</td>\n",
       "      <td>0</td>\n",
       "      <td>3</td>\n",
       "      <td>1</td>\n",
       "      <td>11</td>\n",
       "      <td>2</td>\n",
       "      <td>4</td>\n",
       "      <td>0</td>\n",
       "      <td>1</td>\n",
       "      <td>1</td>\n",
       "      <td>100</td>\n",
       "    </tr>\n",
       "  </tbody>\n",
       "</table>\n",
       "<p>5 rows × 33 columns</p>\n",
       "</div>"
      ],
      "text/plain": [
       "   Unnamed: 0  Unnamed: 0.1  loc  mun  est  est_d  ageb  t_loc  cd_a  ent  \\\n",
       "0           0             0    1    1   32    121     0      1    14    1   \n",
       "1           1             1    1    1   32    121     0      1    14    1   \n",
       "2           2             2    1    1   32    121     0      1    14    1   \n",
       "3           3             3    1    1   32    121     0      1    14    1   \n",
       "4           4             4    1    1   32    121     0      1    14    1   \n",
       "\n",
       "  ...   r_def  d_dia  d_mes  d_anio  e_obs  p4_1  p4_2  inf  ur  fac  \n",
       "0 ...       0      3      1      11      2     4     0    3   1  100  \n",
       "1 ...       0      7      1      11      1     4     0    1   1  100  \n",
       "2 ...       0      4      1      11      2     4     0    3   1  100  \n",
       "3 ...       0      3      1      11      2     4     0    2   1  100  \n",
       "4 ...       0      3      1      11      2     4     0    1   1  100  \n",
       "\n",
       "[5 rows x 33 columns]"
      ]
     },
     "execution_count": 8,
     "metadata": {},
     "output_type": "execute_result"
    }
   ],
   "source": [
    "df_hogt = pd.read_csv(path_df_hogt, low_memory = False)\n",
    "df_hogt.head()"
   ]
  },
  {
   "cell_type": "code",
   "execution_count": 9,
   "metadata": {
    "collapsed": false
   },
   "outputs": [
    {
     "data": {
      "text/plain": [
       "(1048575, 33)"
      ]
     },
     "execution_count": 9,
     "metadata": {},
     "output_type": "execute_result"
    }
   ],
   "source": [
    "df_hogt.shape"
   ]
  },
  {
   "cell_type": "code",
   "execution_count": 10,
   "metadata": {
    "collapsed": true
   },
   "outputs": [],
   "source": [
    "df_copy_hogt = df_hogt.copy()"
   ]
  },
  {
   "cell_type": "code",
   "execution_count": 16,
   "metadata": {
    "collapsed": false
   },
   "outputs": [
    {
     "data": {
      "text/plain": [
       "(1048575, 33)"
      ]
     },
     "execution_count": 16,
     "metadata": {},
     "output_type": "execute_result"
    }
   ],
   "source": [
    "df_copy_hogt.shape"
   ]
  },
  {
   "cell_type": "markdown",
   "metadata": {},
   "source": [
    "# Limpieza de Datos"
   ]
  },
  {
   "cell_type": "markdown",
   "metadata": {},
   "source": [
    "## Número de la Localidad\n",
    "0001-9998"
   ]
  },
  {
   "cell_type": "code",
   "execution_count": 17,
   "metadata": {
    "collapsed": false
   },
   "outputs": [
    {
     "data": {
      "text/plain": [
       "1       807319\n",
       "3         7078\n",
       "2         6886\n",
       "8         5953\n",
       "37        5262\n",
       "4         5231\n",
       "5         5093\n",
       "9         4239\n",
       "7         4190\n",
       "18        4033\n",
       "25        3685\n",
       "6         3503\n",
       "11        3458\n",
       "60        3386\n",
       "16        3344\n",
       "12        3185\n",
       "15        3139\n",
       "10        3112\n",
       "35        3022\n",
       "14        2984\n",
       "13        2892\n",
       "22        2673\n",
       "34        2637\n",
       "23        2579\n",
       "19        2460\n",
       "44        2412\n",
       "27        2317\n",
       "24        2270\n",
       "32        2149\n",
       "122       2115\n",
       "         ...  \n",
       "814          2\n",
       "1349         2\n",
       "556          2\n",
       "629          2\n",
       "637          2\n",
       "1057         2\n",
       "270          2\n",
       "797          2\n",
       "939          2\n",
       "1805         2\n",
       "409          2\n",
       "1804         2\n",
       "1648         2\n",
       "272          2\n",
       "2133         1\n",
       "692          1\n",
       "344          1\n",
       "867          1\n",
       "2564         1\n",
       "636          1\n",
       "714          1\n",
       "623          1\n",
       "248          1\n",
       "609          1\n",
       "1916         1\n",
       "1137         1\n",
       "2692         1\n",
       "384          1\n",
       "667          1\n",
       "306          1\n",
       "Name: loc, dtype: int64"
      ]
     },
     "execution_count": 17,
     "metadata": {},
     "output_type": "execute_result"
    }
   ],
   "source": [
    "df_copy_hogt['loc'] = df_copy_hogt['loc'].astype('int64')\n",
    "df_copy_hogt['loc'].value_counts()"
   ]
  },
  {
   "cell_type": "markdown",
   "metadata": {},
   "source": [
    "## Número de municipio según entidad\n",
    "001-575"
   ]
  },
  {
   "cell_type": "code",
   "execution_count": 18,
   "metadata": {
    "collapsed": false
   },
   "outputs": [
    {
     "data": {
      "text/plain": [
       "1      60449\n",
       "2      54023\n",
       "5      53036\n",
       "4      52390\n",
       "17     37913\n",
       "30     37869\n",
       "3      35333\n",
       "6      32650\n",
       "20     30866\n",
       "7      29399\n",
       "39     26325\n",
       "19     24236\n",
       "28     22511\n",
       "14     22474\n",
       "101    22286\n",
       "114    20752\n",
       "48     20721\n",
       "53     20529\n",
       "10     19311\n",
       "50     18331\n",
       "9      16753\n",
       "11     13932\n",
       "193    13056\n",
       "106    12986\n",
       "67     12854\n",
       "8      12687\n",
       "35     12369\n",
       "38     12169\n",
       "56     11471\n",
       "18     10972\n",
       "       ...  \n",
       "183      140\n",
       "448      140\n",
       "278      131\n",
       "136      124\n",
       "125      120\n",
       "293      120\n",
       "519      110\n",
       "261      105\n",
       "447      105\n",
       "484      103\n",
       "255      103\n",
       "176      100\n",
       "417      100\n",
       "554      100\n",
       "403      100\n",
       "500       95\n",
       "170       89\n",
       "159       84\n",
       "411       80\n",
       "543       80\n",
       "257       80\n",
       "181       80\n",
       "138       80\n",
       "279       63\n",
       "188       62\n",
       "377       54\n",
       "438       42\n",
       "404       40\n",
       "284       40\n",
       "113       21\n",
       "Name: mun, dtype: int64"
      ]
     },
     "execution_count": 18,
     "metadata": {},
     "output_type": "execute_result"
    }
   ],
   "source": [
    "df_copy_hogt['mun'] = df_copy_hogt['mun'].astype('int64')\n",
    "df_copy_hogt['mun'].value_counts()"
   ]
  },
  {
   "cell_type": "markdown",
   "metadata": {},
   "source": [
    "## Estrato est\n",
    "Primer dígito 1-4: El primer Carácter es la clave del estrato nacional\n",
    "\n",
    "Segundo dígito 0-4: El segundo se usa para el subestrato o estrato estatal"
   ]
  },
  {
   "cell_type": "code",
   "execution_count": 19,
   "metadata": {
    "collapsed": false
   },
   "outputs": [
    {
     "data": {
      "text/plain": [
       "20    158938\n",
       "22    124052\n",
       "23    118849\n",
       "33    113861\n",
       "32    109438\n",
       "21     71990\n",
       "10     62355\n",
       "30     57798\n",
       "43     50576\n",
       "42     44201\n",
       "12     36772\n",
       "13     27523\n",
       "11     20645\n",
       "24     14972\n",
       "31     14853\n",
       "40     13669\n",
       "14      5243\n",
       "41      2840\n",
       "Name: est, dtype: int64"
      ]
     },
     "execution_count": 19,
     "metadata": {},
     "output_type": "execute_result"
    }
   ],
   "source": [
    "df_copy_hogt['est'] = df_copy_hogt['est'].astype('int64')\n",
    "df_copy_hogt['est'].value_counts()"
   ]
  },
  {
   "cell_type": "markdown",
   "metadata": {},
   "source": [
    "## Número del estrato de diseño\n",
    "\n",
    "0001-9999"
   ]
  },
  {
   "cell_type": "code",
   "execution_count": 20,
   "metadata": {
    "collapsed": false
   },
   "outputs": [
    {
     "data": {
      "text/plain": [
       "275     9570\n",
       "262     7376\n",
       "26      7271\n",
       "54      6925\n",
       "155     6525\n",
       "35      6132\n",
       "55      6130\n",
       "38      5599\n",
       "28      5371\n",
       "5       5345\n",
       "272     5182\n",
       "83      5180\n",
       "174     4981\n",
       "287     4897\n",
       "164     4881\n",
       "242     4859\n",
       "192     4831\n",
       "44      4716\n",
       "15      4695\n",
       "161     4653\n",
       "98      4575\n",
       "90      4542\n",
       "63      4514\n",
       "8       4409\n",
       "7       4372\n",
       "41      4363\n",
       "47      4332\n",
       "56      4329\n",
       "197     4278\n",
       "45      4271\n",
       "        ... \n",
       "1461      10\n",
       "1487      10\n",
       "1392      10\n",
       "1350      10\n",
       "1021      10\n",
       "1166      10\n",
       "1554      10\n",
       "1367      10\n",
       "1363      10\n",
       "1364      10\n",
       "1012      10\n",
       "1218      10\n",
       "1169      10\n",
       "1036      10\n",
       "1052      10\n",
       "1355      10\n",
       "1017       7\n",
       "1576       5\n",
       "1301       5\n",
       "1109       5\n",
       "1481       5\n",
       "1307       5\n",
       "1118       5\n",
       "1299       5\n",
       "1039       5\n",
       "1023       5\n",
       "1029       5\n",
       "1551       5\n",
       "1557       5\n",
       "1486       5\n",
       "Name: est_d, dtype: int64"
      ]
     },
     "execution_count": 20,
     "metadata": {},
     "output_type": "execute_result"
    }
   ],
   "source": [
    "df_copy_hogt['est_d'] = df_copy_hogt['est_d'].astype('int64')\n",
    "df_copy_hogt['est_d'].value_counts()"
   ]
  },
  {
   "cell_type": "markdown",
   "metadata": {},
   "source": [
    "## Número del ageb del marco nacional\n",
    "\n",
    "00000-99999"
   ]
  },
  {
   "cell_type": "code",
   "execution_count": 21,
   "metadata": {
    "collapsed": false
   },
   "outputs": [
    {
     "data": {
      "text/plain": [
       "0    1048575\n",
       "Name: ageb, dtype: int64"
      ]
     },
     "execution_count": 21,
     "metadata": {},
     "output_type": "execute_result"
    }
   ],
   "source": [
    "df_copy_hogt['ageb'] = df_copy_hogt['ageb'].astype('int64')\n",
    "df_copy_hogt['ageb'].value_counts()"
   ]
  },
  {
   "cell_type": "markdown",
   "metadata": {},
   "source": [
    "## Tamaño de localidad t_loc\n",
    "\n",
    "1: Localidades mayores de 100 000 habitantes\n",
    "\n",
    "2: Localidades de 15 000 a 99 999 habitantes\n",
    "\n",
    "3: Localidades de 2 500 a 14 999 habitantes\n",
    "\n",
    "4: Localidades menores de 2 500 habitantes\n"
   ]
  },
  {
   "cell_type": "code",
   "execution_count": 22,
   "metadata": {
    "collapsed": false
   },
   "outputs": [
    {
     "data": {
      "text/plain": [
       "1    644443\n",
       "4    170488\n",
       "3    120891\n",
       "2    112753\n",
       "Name: t_loc, dtype: int64"
      ]
     },
     "execution_count": 22,
     "metadata": {},
     "output_type": "execute_result"
    }
   ],
   "source": [
    "df_copy_hogt['t_loc'] = df_copy_hogt['t_loc'].astype('int64')\n",
    "df_copy_hogt['t_loc'].value_counts()"
   ]
  },
  {
   "cell_type": "markdown",
   "metadata": {},
   "source": [
    "## Ciudad Autorepresentada\n",
    "\n",
    "01-43, 81-86"
   ]
  },
  {
   "cell_type": "code",
   "execution_count": 23,
   "metadata": {
    "collapsed": false
   },
   "outputs": [
    {
     "data": {
      "text/plain": [
       "86    168159\n",
       "81     66793\n",
       "84     55464\n",
       "83     54100\n",
       "1      46023\n",
       "85     40260\n",
       "2      27583\n",
       "5      27502\n",
       "3      27288\n",
       "82     26153\n",
       "4      24081\n",
       "15     19162\n",
       "27     19159\n",
       "19     19109\n",
       "33     19102\n",
       "14     19031\n",
       "13     19029\n",
       "16     19004\n",
       "31     18983\n",
       "26     18974\n",
       "17     18963\n",
       "43     18951\n",
       "29     18935\n",
       "21     18930\n",
       "9      18912\n",
       "32     17118\n",
       "18     17037\n",
       "41     17002\n",
       "12     16972\n",
       "7      16963\n",
       "8      16962\n",
       "24     16882\n",
       "36     16865\n",
       "10     16832\n",
       "25     16817\n",
       "39     16813\n",
       "40     16332\n",
       "28     16330\n",
       "Name: cd_a, dtype: int64"
      ]
     },
     "execution_count": 23,
     "metadata": {},
     "output_type": "execute_result"
    }
   ],
   "source": [
    "df_copy_hogt['cd_a'] = df_copy_hogt['cd_a'].astype('int64')\n",
    "df_copy_hogt['cd_a'].value_counts()"
   ]
  },
  {
   "cell_type": "markdown",
   "metadata": {},
   "source": [
    "## Entidad\n",
    "01-32"
   ]
  },
  {
   "cell_type": "code",
   "execution_count": 24,
   "metadata": {
    "collapsed": false
   },
   "outputs": [
    {
     "data": {
      "text/plain": [
       "15    47129\n",
       "11    43068\n",
       "14    39000\n",
       "7     37694\n",
       "2     37130\n",
       "20    36855\n",
       "19    36840\n",
       "30    36730\n",
       "12    35492\n",
       "21    35398\n",
       "5     34430\n",
       "8     33326\n",
       "16    33058\n",
       "18    32773\n",
       "1     31847\n",
       "28    31722\n",
       "6     31372\n",
       "10    30812\n",
       "13    30797\n",
       "17    30722\n",
       "4     30122\n",
       "32    30097\n",
       "9     29847\n",
       "27    29330\n",
       "24    29325\n",
       "22    29012\n",
       "25    28258\n",
       "26    28143\n",
       "31    27609\n",
       "23    27599\n",
       "29    26555\n",
       "3     26483\n",
       "Name: ent, dtype: int64"
      ]
     },
     "execution_count": 24,
     "metadata": {},
     "output_type": "execute_result"
    }
   ],
   "source": [
    "df_copy_hogt['ent'] = df_copy_hogt['ent'].astype('int64')\n",
    "df_copy_hogt['ent'].value_counts()"
   ]
  },
  {
   "cell_type": "markdown",
   "metadata": {},
   "source": [
    "## Ámbito del número de control\n",
    "\n",
    "Primer dígito: 0,4,5,6\n",
    "\n",
    "Los últimos cuatro dígitos: 0001-9999 Consecutivo por entidad y ámbito"
   ]
  },
  {
   "cell_type": "code",
   "execution_count": 25,
   "metadata": {
    "collapsed": false
   },
   "outputs": [
    {
     "data": {
      "text/plain": [
       "6001     5675\n",
       "6002     5632\n",
       "6005     5626\n",
       "6018     5531\n",
       "6020     5505\n",
       "6004     5496\n",
       "6003     5485\n",
       "6019     5468\n",
       "6017     5465\n",
       "6016     5454\n",
       "6015     5450\n",
       "6014     5422\n",
       "6013     5386\n",
       "6006     5338\n",
       "6023     5321\n",
       "6022     5280\n",
       "6021     5269\n",
       "6024     5248\n",
       "6025     5237\n",
       "6008     5183\n",
       "6010     5182\n",
       "6012     5155\n",
       "6009     5133\n",
       "6011     5074\n",
       "6007     5051\n",
       "5022     4563\n",
       "5026     4552\n",
       "5027     4543\n",
       "5005     4511\n",
       "5013     4488\n",
       "         ... \n",
       "41206       5\n",
       "40178       5\n",
       "41205       5\n",
       "41204       5\n",
       "41203       5\n",
       "41167       5\n",
       "40128       5\n",
       "40511       5\n",
       "40129       5\n",
       "40130       5\n",
       "40158       5\n",
       "40506       5\n",
       "40187       5\n",
       "41010       5\n",
       "40161       5\n",
       "40211       5\n",
       "41236       5\n",
       "40164       5\n",
       "40165       5\n",
       "40166       5\n",
       "41011       5\n",
       "40162       5\n",
       "40186       5\n",
       "40163       5\n",
       "40188       5\n",
       "40189       5\n",
       "40184       5\n",
       "40507       5\n",
       "40185       5\n",
       "40209       5\n",
       "Name: con, dtype: int64"
      ]
     },
     "execution_count": 25,
     "metadata": {},
     "output_type": "execute_result"
    }
   ],
   "source": [
    "df_copy_hogt['con'] = df_copy_hogt['con'].astype('int64')\n",
    "df_copy_hogt['con'].value_counts()"
   ]
  },
  {
   "cell_type": "markdown",
   "metadata": {
    "collapsed": true
   },
   "source": [
    "## Unidad primaria \n",
    "\n",
    "0100001-3299999 Número de la unidad de muestreo"
   ]
  },
  {
   "cell_type": "code",
   "execution_count": 26,
   "metadata": {
    "collapsed": false
   },
   "outputs": [
    {
     "data": {
      "text/plain": [
       "1          4668\n",
       "14         4385\n",
       "3          4067\n",
       "46         3647\n",
       "19         3612\n",
       "37         3605\n",
       "7          3560\n",
       "22         3527\n",
       "29         3476\n",
       "23         3469\n",
       "27         3468\n",
       "9          3403\n",
       "8          3352\n",
       "4          3346\n",
       "10         3320\n",
       "40         3308\n",
       "11         3134\n",
       "31         3091\n",
       "32         3083\n",
       "53         3055\n",
       "47         2987\n",
       "39         2933\n",
       "5          2890\n",
       "38         2869\n",
       "52         2815\n",
       "49         2796\n",
       "26         2766\n",
       "2          2759\n",
       "16         2747\n",
       "18         2745\n",
       "           ... \n",
       "1800950       5\n",
       "1400356       5\n",
       "917838        5\n",
       "1800163       5\n",
       "1902381       5\n",
       "102076        5\n",
       "2003099       5\n",
       "1000561       5\n",
       "1521259       5\n",
       "701913        5\n",
       "909108        5\n",
       "601012        5\n",
       "1600068       5\n",
       "800273        5\n",
       "502372        5\n",
       "1800702       5\n",
       "702145        5\n",
       "701523        5\n",
       "501860        5\n",
       "2002753       5\n",
       "203562        5\n",
       "1800297       5\n",
       "1520758       5\n",
       "502885        5\n",
       "912173        5\n",
       "1401404       5\n",
       "400219        5\n",
       "1516412       5\n",
       "202773        5\n",
       "2001905       3\n",
       "Name: upm, dtype: int64"
      ]
     },
     "execution_count": 26,
     "metadata": {},
     "output_type": "execute_result"
    }
   ],
   "source": [
    "df_copy_hogt['upm'] = df_copy_hogt['upm'].astype('int64')\n",
    "df_copy_hogt['upm'].value_counts()"
   ]
  },
  {
   "cell_type": "markdown",
   "metadata": {},
   "source": [
    "## Distribución semanal\n",
    "\n",
    "Distribución semanal\n",
    "\n",
    "Primer dígito 1-5 \n",
    "\n",
    "Segundo y tercer dígito 01-13 Número de semana cuando el campo CD_A es menor o igual 43\n",
    "\n",
    "01-03 Número del mes cuando el campo CD_A es mayor de 43"
   ]
  },
  {
   "cell_type": "code",
   "execution_count": 27,
   "metadata": {
    "collapsed": false
   },
   "outputs": [
    {
     "data": {
      "text/plain": [
       "202    41250\n",
       "401    39885\n",
       "103    38816\n",
       "501    38629\n",
       "102    38513\n",
       "301    38504\n",
       "503    38152\n",
       "403    37056\n",
       "302    36938\n",
       "303    35733\n",
       "201    35305\n",
       "203    35302\n",
       "402    35031\n",
       "502    34979\n",
       "101    34110\n",
       "510    10037\n",
       "506    10017\n",
       "211     9986\n",
       "409     9980\n",
       "207     9976\n",
       "405     9970\n",
       "304     9969\n",
       "504     9963\n",
       "112     9955\n",
       "213     9944\n",
       "406     9925\n",
       "108     9915\n",
       "309     9871\n",
       "105     9869\n",
       "509     9861\n",
       "       ...  \n",
       "210     9830\n",
       "310     9827\n",
       "206     9825\n",
       "205     9822\n",
       "107     9821\n",
       "109     9820\n",
       "208     9810\n",
       "312     9798\n",
       "307     9796\n",
       "106     9774\n",
       "209     9772\n",
       "408     9762\n",
       "111     9761\n",
       "508     9757\n",
       "204     9751\n",
       "507     9751\n",
       "513     9748\n",
       "311     9724\n",
       "305     9721\n",
       "104     9709\n",
       "308     9707\n",
       "411     9703\n",
       "110     9699\n",
       "410     9689\n",
       "407     9650\n",
       "212     9629\n",
       "404     9623\n",
       "113     9570\n",
       "511     9539\n",
       "505     9493\n",
       "Name: d_sem, dtype: int64"
      ]
     },
     "execution_count": 27,
     "metadata": {},
     "output_type": "execute_result"
    }
   ],
   "source": [
    "df_copy_hogt['d_sem'] = df_copy_hogt['d_sem'].astype('int64')\n",
    "df_copy_hogt['d_sem'].value_counts()"
   ]
  },
  {
   "cell_type": "markdown",
   "metadata": {},
   "source": [
    "## Número progresivo de la vivienda"
   ]
  },
  {
   "cell_type": "markdown",
   "metadata": {},
   "source": [
    "0001-9999 Número progresivo de la vivienda"
   ]
  },
  {
   "cell_type": "code",
   "execution_count": 28,
   "metadata": {
    "collapsed": false
   },
   "outputs": [
    {
     "data": {
      "text/plain": [
       "18      6005\n",
       "19      5978\n",
       "22      5953\n",
       "17      5913\n",
       "64      5895\n",
       "74      5850\n",
       "76      5836\n",
       "79      5836\n",
       "40      5834\n",
       "49      5831\n",
       "73      5824\n",
       "75      5813\n",
       "14      5808\n",
       "23      5807\n",
       "38      5797\n",
       "46      5788\n",
       "57      5784\n",
       "65      5781\n",
       "37      5776\n",
       "72      5766\n",
       "60      5759\n",
       "54      5759\n",
       "21      5758\n",
       "30      5748\n",
       "16      5746\n",
       "59      5742\n",
       "24      5742\n",
       "11      5733\n",
       "66      5724\n",
       "34      5710\n",
       "        ... \n",
       "1570       2\n",
       "1564       2\n",
       "1577       2\n",
       "1441       2\n",
       "1189       2\n",
       "1715       1\n",
       "1307       1\n",
       "1635       1\n",
       "1201       1\n",
       "2103       1\n",
       "1199       1\n",
       "937        1\n",
       "1613       1\n",
       "1287       1\n",
       "1232       1\n",
       "1352       1\n",
       "1250       1\n",
       "2417       1\n",
       "1647       1\n",
       "2278       1\n",
       "1331       1\n",
       "2423       1\n",
       "1226       1\n",
       "2348       1\n",
       "1651       1\n",
       "1575       1\n",
       "2302       1\n",
       "1068       1\n",
       "1607       1\n",
       "1637       1\n",
       "Name: n_pro_viv, dtype: int64"
      ]
     },
     "execution_count": 28,
     "metadata": {},
     "output_type": "execute_result"
    }
   ],
   "source": [
    "df_copy_hogt['n_pro_viv'] = df_copy_hogt['n_pro_viv'].astype('int64')\n",
    "df_copy_hogt['n_pro_viv'].value_counts()"
   ]
  },
  {
   "cell_type": "markdown",
   "metadata": {},
   "source": [
    "## Vivienda seleccionada"
   ]
  },
  {
   "cell_type": "markdown",
   "metadata": {},
   "source": [
    "01-99 Número de vivienda seleccionada"
   ]
  },
  {
   "cell_type": "code",
   "execution_count": 29,
   "metadata": {
    "collapsed": false
   },
   "outputs": [
    {
     "data": {
      "text/plain": [
       "3     157299\n",
       "4     157292\n",
       "2     157268\n",
       "1     157197\n",
       "5     156745\n",
       "6      17844\n",
       "9      17843\n",
       "7      17822\n",
       "10     17807\n",
       "8      17801\n",
       "13     17100\n",
       "16     17073\n",
       "11     17067\n",
       "14     17066\n",
       "15     17059\n",
       "12     17037\n",
       "17     17029\n",
       "18     17012\n",
       "19     16662\n",
       "20     16075\n",
       "21      2833\n",
       "22      1542\n",
       "23        82\n",
       "24        20\n",
       "Name: v_sel, dtype: int64"
      ]
     },
     "execution_count": 29,
     "metadata": {},
     "output_type": "execute_result"
    }
   ],
   "source": [
    "df_copy_hogt['v_sel'] = df_copy_hogt['v_sel'].astype('int64')\n",
    "df_copy_hogt['v_sel'].value_counts()"
   ]
  },
  {
   "cell_type": "markdown",
   "metadata": {},
   "source": [
    "## Número de hogar"
   ]
  },
  {
   "cell_type": "markdown",
   "metadata": {},
   "source": [
    "1 Número de hogar principal dentro de la vivienda\n",
    "\n",
    "2-9 Número de hogar adicional dentro de la vivienda"
   ]
  },
  {
   "cell_type": "code",
   "execution_count": 30,
   "metadata": {
    "collapsed": false
   },
   "outputs": [
    {
     "data": {
      "text/plain": [
       "1    1040314\n",
       "2       6829\n",
       "3       1111\n",
       "4        248\n",
       "5         54\n",
       "6         19\n",
       "Name: n_hog, dtype: int64"
      ]
     },
     "execution_count": 30,
     "metadata": {},
     "output_type": "execute_result"
    }
   ],
   "source": [
    "df_copy_hogt['n_hog'] = df_copy_hogt['n_hog'].astype('int64')\n",
    "df_copy_hogt['n_hog'].value_counts()"
   ]
  },
  {
   "cell_type": "markdown",
   "metadata": {},
   "source": [
    "## Hogar mudado"
   ]
  },
  {
   "cell_type": "markdown",
   "metadata": {},
   "source": [
    "0-4 Número de veces que el hogar se ha mudado"
   ]
  },
  {
   "cell_type": "code",
   "execution_count": 31,
   "metadata": {
    "collapsed": false
   },
   "outputs": [
    {
     "data": {
      "text/plain": [
       "0    1013077\n",
       "1      31746\n",
       "2       3446\n",
       "3        294\n",
       "4         12\n",
       "Name: h_mud, dtype: int64"
      ]
     },
     "execution_count": 31,
     "metadata": {},
     "output_type": "execute_result"
    }
   ],
   "source": [
    "df_copy_hogt['h_mud'] = df_copy_hogt['h_mud'].astype('int64')\n",
    "df_copy_hogt['h_mud'].value_counts()"
   ]
  },
  {
   "cell_type": "markdown",
   "metadata": {},
   "source": [
    "## Número de entrevista o visita"
   ]
  },
  {
   "cell_type": "markdown",
   "metadata": {},
   "source": [
    "1-5 Número de entrevista o visita"
   ]
  },
  {
   "cell_type": "code",
   "execution_count": 32,
   "metadata": {
    "collapsed": false
   },
   "outputs": [
    {
     "data": {
      "text/plain": [
       "3    210003\n",
       "5    209860\n",
       "2    209847\n",
       "4    209800\n",
       "1    209065\n",
       "Name: n_ent, dtype: int64"
      ]
     },
     "execution_count": 32,
     "metadata": {},
     "output_type": "execute_result"
    }
   ],
   "source": [
    "df_copy_hogt['n_ent'] = df_copy_hogt['n_ent'].astype('int64')\n",
    "df_copy_hogt['n_ent'].value_counts()"
   ]
  },
  {
   "cell_type": "markdown",
   "metadata": {},
   "source": [
    "## Periodo"
   ]
  },
  {
   "cell_type": "markdown",
   "metadata": {},
   "source": [
    "Primer dígito Trimestre de año\n",
    "1 Enero-Marzo\n",
    "2 Abril-Junio\n",
    "3 Julio-Septiembre\n",
    "4 Octubre-Diciembre\n",
    "\n",
    "Segundo y tercer dígito\n",
    "05-99 Año en curso"
   ]
  },
  {
   "cell_type": "code",
   "execution_count": 33,
   "metadata": {
    "collapsed": false
   },
   "outputs": [
    {
     "data": {
      "text/plain": [
       "312    121633\n",
       "412    121621\n",
       "212    121583\n",
       "311    121575\n",
       "111    121564\n",
       "211    121558\n",
       "411    121526\n",
       "112    121498\n",
       "113     76017\n",
       "Name: per, dtype: int64"
      ]
     },
     "execution_count": 33,
     "metadata": {},
     "output_type": "execute_result"
    }
   ],
   "source": [
    "df_copy_hogt['per'] = df_copy_hogt['per'].astype('int64')\n",
    "df_copy_hogt['per'].value_counts()"
   ]
  },
  {
   "cell_type": "markdown",
   "metadata": {},
   "source": [
    "## Resultado preliminar de la entrevista-\n",
    "00 Entrevista completa\n",
    "\n",
    "Tipo \"A\" Vivienda habitada\n",
    "\n",
    "01 Nadie en el momento de la entrevista\n",
    "\n",
    "02 Ausente temporal\n",
    "\n",
    "03 Se negó a dar información\n",
    "\n",
    "04 Informante inadecuado\n",
    "\n",
    "05 Otro motivo\n",
    "\n",
    "14 El hogar se mudó\n",
    "\n",
    "15 Entrevista suspendida"
   ]
  },
  {
   "cell_type": "code",
   "execution_count": 35,
   "metadata": {
    "collapsed": false
   },
   "outputs": [
    {
     "data": {
      "text/plain": [
       "0     883648\n",
       "6      74820\n",
       "7      27974\n",
       "3      14218\n",
       "1      13327\n",
       "2      12613\n",
       "9       5718\n",
       "5       4638\n",
       "8       3718\n",
       "12      2206\n",
       "4       1776\n",
       "13      1444\n",
       "10      1345\n",
       "14       784\n",
       "15       323\n",
       "11        23\n",
       "Name: r_pre, dtype: int64"
      ]
     },
     "execution_count": 35,
     "metadata": {},
     "output_type": "execute_result"
    }
   ],
   "source": [
    "df_copy_hogt['r_pre'] = df_copy_hogt['r_pre'].astype('int64')\n",
    "df_copy_hogt['r_pre'].value_counts()"
   ]
  },
  {
   "cell_type": "code",
   "execution_count": 36,
   "metadata": {
    "collapsed": true
   },
   "outputs": [],
   "source": [
    "df_copy_hogt.drop(df_copy_hogt[(df_copy_hogt['r_pre'] == 6)].index, \n",
    "                  inplace=True)"
   ]
  },
  {
   "cell_type": "code",
   "execution_count": 37,
   "metadata": {
    "collapsed": false
   },
   "outputs": [
    {
     "data": {
      "text/plain": [
       "0     901527\n",
       "7      27368\n",
       "3      11801\n",
       "2       8213\n",
       "9       5378\n",
       "1       5093\n",
       "8       3664\n",
       "5       2363\n",
       "12      2360\n",
       "6       1502\n",
       "13      1426\n",
       "10      1328\n",
       "4        805\n",
       "14       792\n",
       "15       116\n",
       "11        19\n",
       "Name: r_def, dtype: int64"
      ]
     },
     "execution_count": 37,
     "metadata": {},
     "output_type": "execute_result"
    }
   ],
   "source": [
    "df_copy_hogt.r_def.value_counts()"
   ]
  },
  {
   "cell_type": "code",
   "execution_count": 38,
   "metadata": {
    "collapsed": true
   },
   "outputs": [],
   "source": [
    "df_copy_hogt.drop(df_copy_hogt[(df_copy_hogt['r_pre'] == 7)].index, \n",
    "                  inplace=True)"
   ]
  },
  {
   "cell_type": "code",
   "execution_count": 39,
   "metadata": {
    "collapsed": false
   },
   "outputs": [],
   "source": [
    "df_copy_hogt.drop(df_copy_hogt[(df_copy_hogt['r_pre'] == 3)].index, \n",
    "                  inplace=True)"
   ]
  },
  {
   "cell_type": "code",
   "execution_count": 40,
   "metadata": {
    "collapsed": true
   },
   "outputs": [],
   "source": [
    "df_copy_hogt.drop(df_copy_hogt[(df_copy_hogt['r_pre'] == 1)].index, \n",
    "                  inplace=True)"
   ]
  },
  {
   "cell_type": "code",
   "execution_count": 41,
   "metadata": {
    "collapsed": true
   },
   "outputs": [],
   "source": [
    "df_copy_hogt.drop(df_copy_hogt[(df_copy_hogt['r_pre'] == 2)].index, \n",
    "                  inplace=True)"
   ]
  },
  {
   "cell_type": "code",
   "execution_count": 42,
   "metadata": {
    "collapsed": true
   },
   "outputs": [],
   "source": [
    "df_copy_hogt.drop(df_copy_hogt[(df_copy_hogt['r_pre'] == 5)].index, \n",
    "                  inplace=True)"
   ]
  },
  {
   "cell_type": "code",
   "execution_count": 43,
   "metadata": {
    "collapsed": true
   },
   "outputs": [],
   "source": [
    "df_copy_hogt.drop(df_copy_hogt[(df_copy_hogt['r_pre'] == 9)].index, \n",
    "                  inplace=True)"
   ]
  },
  {
   "cell_type": "code",
   "execution_count": 44,
   "metadata": {
    "collapsed": true
   },
   "outputs": [],
   "source": [
    "df_copy_hogt.drop(df_copy_hogt[(df_copy_hogt['r_pre'] == 8)].index, \n",
    "                  inplace=True)"
   ]
  },
  {
   "cell_type": "code",
   "execution_count": 45,
   "metadata": {
    "collapsed": true
   },
   "outputs": [],
   "source": [
    "df_copy_hogt.drop(df_copy_hogt[(df_copy_hogt['r_pre'] == 12)].index, \n",
    "                  inplace=True)"
   ]
  },
  {
   "cell_type": "code",
   "execution_count": 46,
   "metadata": {
    "collapsed": true
   },
   "outputs": [],
   "source": [
    "df_copy_hogt.drop(df_copy_hogt[(df_copy_hogt['r_pre'] == 4)].index, \n",
    "                  inplace=True)"
   ]
  },
  {
   "cell_type": "code",
   "execution_count": 47,
   "metadata": {
    "collapsed": true
   },
   "outputs": [],
   "source": [
    "df_copy_hogt.drop(df_copy_hogt[(df_copy_hogt['r_pre'] == 13)].index, \n",
    "                  inplace=True)"
   ]
  },
  {
   "cell_type": "code",
   "execution_count": 48,
   "metadata": {
    "collapsed": true
   },
   "outputs": [],
   "source": [
    "df_copy_hogt.drop(df_copy_hogt[(df_copy_hogt['r_pre'] == 10)].index, \n",
    "                  inplace=True)"
   ]
  },
  {
   "cell_type": "code",
   "execution_count": 49,
   "metadata": {
    "collapsed": true
   },
   "outputs": [],
   "source": [
    "df_copy_hogt.drop(df_copy_hogt[(df_copy_hogt['r_pre'] == 14)].index, \n",
    "                  inplace=True)"
   ]
  },
  {
   "cell_type": "code",
   "execution_count": 50,
   "metadata": {
    "collapsed": true
   },
   "outputs": [],
   "source": [
    "df_copy_hogt.drop(df_copy_hogt[(df_copy_hogt['r_pre'] == 15)].index, \n",
    "                  inplace=True)"
   ]
  },
  {
   "cell_type": "code",
   "execution_count": 51,
   "metadata": {
    "collapsed": true
   },
   "outputs": [],
   "source": [
    "df_copy_hogt.drop(df_copy_hogt[(df_copy_hogt['r_pre'] == 11)].index, \n",
    "                  inplace=True)"
   ]
  },
  {
   "cell_type": "code",
   "execution_count": 52,
   "metadata": {
    "collapsed": false
   },
   "outputs": [
    {
     "data": {
      "text/plain": [
       "0    883648\n",
       "Name: r_def, dtype: int64"
      ]
     },
     "execution_count": 52,
     "metadata": {},
     "output_type": "execute_result"
    }
   ],
   "source": [
    "df_copy_hogt.r_def.value_counts()"
   ]
  },
  {
   "cell_type": "markdown",
   "metadata": {},
   "source": [
    "## Día de referencia del preliminar resultado"
   ]
  },
  {
   "cell_type": "markdown",
   "metadata": {},
   "source": [
    "01-31"
   ]
  },
  {
   "cell_type": "code",
   "execution_count": 53,
   "metadata": {
    "collapsed": false
   },
   "outputs": [
    {
     "data": {
      "text/plain": [
       "14    33910\n",
       "13    33260\n",
       "12    33235\n",
       "11    32050\n",
       "18    31487\n",
       "17    31407\n",
       "20    31209\n",
       "26    30772\n",
       "7     30573\n",
       "9     30532\n",
       "24    30525\n",
       "23    30372\n",
       "15    30225\n",
       "10    30126\n",
       "21    29454\n",
       "8     29448\n",
       "19    29423\n",
       "22    29361\n",
       "16    29220\n",
       "25    29098\n",
       "6     28822\n",
       "27    28710\n",
       "5     28097\n",
       "28    27843\n",
       "4     25480\n",
       "3     23816\n",
       "29    23170\n",
       "30    22693\n",
       "2     21747\n",
       "1     20143\n",
       "31    17440\n",
       "Name: p_dia, dtype: int64"
      ]
     },
     "execution_count": 53,
     "metadata": {},
     "output_type": "execute_result"
    }
   ],
   "source": [
    "df_copy_hogt['p_dia'] = df_copy_hogt['p_dia'].astype('int64')\n",
    "df_copy_hogt['p_dia'].value_counts()"
   ]
  },
  {
   "cell_type": "markdown",
   "metadata": {},
   "source": [
    "## Mes de referencia del resultado preliminar\n",
    "\n",
    "01-12"
   ]
  },
  {
   "cell_type": "code",
   "execution_count": 54,
   "metadata": {
    "collapsed": false
   },
   "outputs": [
    {
     "data": {
      "text/plain": [
       "3     93254\n",
       "1     88643\n",
       "2     87002\n",
       "5     74206\n",
       "8     71349\n",
       "10    69631\n",
       "11    68380\n",
       "6     68292\n",
       "7     66926\n",
       "9     66816\n",
       "12    66426\n",
       "4     62723\n",
       "Name: p_mes, dtype: int64"
      ]
     },
     "execution_count": 54,
     "metadata": {},
     "output_type": "execute_result"
    }
   ],
   "source": [
    "df_copy_hogt['p_mes'] = df_copy_hogt['p_mes'].astype('int64')\n",
    "df_copy_hogt['p_mes'].value_counts()"
   ]
  },
  {
   "cell_type": "markdown",
   "metadata": {},
   "source": [
    "## Año del resultado preliminar\n",
    "\n",
    "05-99"
   ]
  },
  {
   "cell_type": "code",
   "execution_count": 55,
   "metadata": {
    "collapsed": false
   },
   "outputs": [
    {
     "data": {
      "text/plain": [
       "12    410485\n",
       "11    409649\n",
       "13     63514\n",
       "Name: p_anio, dtype: int64"
      ]
     },
     "execution_count": 55,
     "metadata": {},
     "output_type": "execute_result"
    }
   ],
   "source": [
    "df_copy_hogt['p_anio'] = df_copy_hogt['p_anio'].astype('int64')\n",
    "df_copy_hogt['p_anio'].value_counts()"
   ]
  },
  {
   "cell_type": "code",
   "execution_count": 56,
   "metadata": {
    "collapsed": true
   },
   "outputs": [],
   "source": [
    "df_copy_hogt.drop(df_copy_hogt[(df_copy_hogt['p_anio'] == 15)].index, \n",
    "                  inplace=True)"
   ]
  },
  {
   "cell_type": "markdown",
   "metadata": {},
   "source": [
    "## Resultado definitivo de la entrevista\n",
    "\n",
    "00-Entrevista completa"
   ]
  },
  {
   "cell_type": "code",
   "execution_count": 57,
   "metadata": {
    "collapsed": false
   },
   "outputs": [
    {
     "data": {
      "text/plain": [
       "0    883648\n",
       "Name: r_def, dtype: int64"
      ]
     },
     "execution_count": 57,
     "metadata": {},
     "output_type": "execute_result"
    }
   ],
   "source": [
    "df_copy_hogt['r_def'] = df_copy_hogt['r_def'].astype('int64')\n",
    "df_copy_hogt['r_def'].value_counts()"
   ]
  },
  {
   "cell_type": "markdown",
   "metadata": {},
   "source": [
    "## Día definitivo de la entrevista\n",
    "01-31"
   ]
  },
  {
   "cell_type": "code",
   "execution_count": 58,
   "metadata": {
    "collapsed": false
   },
   "outputs": [
    {
     "data": {
      "text/plain": [
       "14    33910\n",
       "13    33260\n",
       "12    33235\n",
       "11    32050\n",
       "18    31487\n",
       "17    31407\n",
       "20    31209\n",
       "26    30772\n",
       "7     30573\n",
       "9     30532\n",
       "24    30525\n",
       "23    30372\n",
       "15    30225\n",
       "10    30126\n",
       "21    29454\n",
       "8     29448\n",
       "19    29423\n",
       "22    29361\n",
       "16    29220\n",
       "25    29098\n",
       "6     28822\n",
       "27    28710\n",
       "5     28097\n",
       "28    27843\n",
       "4     25480\n",
       "3     23816\n",
       "29    23170\n",
       "30    22693\n",
       "2     21747\n",
       "1     20143\n",
       "31    17440\n",
       "Name: d_dia, dtype: int64"
      ]
     },
     "execution_count": 58,
     "metadata": {},
     "output_type": "execute_result"
    }
   ],
   "source": [
    "df_copy_hogt['d_dia'] = df_copy_hogt['d_dia'].astype('int64')\n",
    "df_copy_hogt['d_dia'].value_counts()"
   ]
  },
  {
   "cell_type": "markdown",
   "metadata": {},
   "source": [
    "## Mes definitivo de la entrevista\n",
    "01-12"
   ]
  },
  {
   "cell_type": "code",
   "execution_count": 59,
   "metadata": {
    "collapsed": false
   },
   "outputs": [
    {
     "data": {
      "text/plain": [
       "3     93254\n",
       "1     88643\n",
       "2     87002\n",
       "5     74206\n",
       "8     71349\n",
       "10    69631\n",
       "11    68380\n",
       "6     68292\n",
       "7     66926\n",
       "9     66816\n",
       "12    66426\n",
       "4     62723\n",
       "Name: d_mes, dtype: int64"
      ]
     },
     "execution_count": 59,
     "metadata": {},
     "output_type": "execute_result"
    }
   ],
   "source": [
    "df_copy_hogt['d_mes'] = df_copy_hogt['d_mes'].astype('int64')\n",
    "df_copy_hogt['d_mes'].value_counts()"
   ]
  },
  {
   "cell_type": "markdown",
   "metadata": {},
   "source": [
    "## aÑO DEFINITVO DE LA ENTREVISTA\n",
    "05-99"
   ]
  },
  {
   "cell_type": "code",
   "execution_count": 60,
   "metadata": {
    "collapsed": false
   },
   "outputs": [
    {
     "data": {
      "text/plain": [
       "12    410485\n",
       "11    409649\n",
       "13     63514\n",
       "Name: d_anio, dtype: int64"
      ]
     },
     "execution_count": 60,
     "metadata": {},
     "output_type": "execute_result"
    }
   ],
   "source": [
    "df_copy_hogt['d_anio'] = df_copy_hogt['d_anio'].astype('int64')\n",
    "df_copy_hogt['d_anio'].value_counts()"
   ]
  },
  {
   "cell_type": "markdown",
   "metadata": {},
   "source": [
    "## Entrevista observada\n",
    "1 si, 2 no"
   ]
  },
  {
   "cell_type": "code",
   "execution_count": 61,
   "metadata": {
    "collapsed": false
   },
   "outputs": [
    {
     "data": {
      "text/plain": [
       "2    849008\n",
       "1     34640\n",
       "Name: e_obs, dtype: int64"
      ]
     },
     "execution_count": 61,
     "metadata": {},
     "output_type": "execute_result"
    }
   ],
   "source": [
    "df_copy_hogt['e_obs'] = df_copy_hogt['e_obs'].astype('int64')\n",
    "df_copy_hogt['e_obs'].value_counts()"
   ]
  },
  {
   "cell_type": "markdown",
   "metadata": {},
   "source": [
    "## Pregunta 4, ¿En este hogar se contrata a trabajadores domésticos…\n",
    "\n",
    "1 de entrada por salida?\n",
    "\n",
    "2 de planta?\n",
    "\n",
    "3 de entrada por salida y de planta?\n",
    "\n",
    "4 No contrata trabajadores"
   ]
  },
  {
   "cell_type": "code",
   "execution_count": 62,
   "metadata": {
    "collapsed": false
   },
   "outputs": [
    {
     "data": {
      "text/plain": [
       "4    832029\n",
       "1     48290\n",
       "2      2905\n",
       "3       424\n",
       "Name: p4_1, dtype: int64"
      ]
     },
     "execution_count": 62,
     "metadata": {},
     "output_type": "execute_result"
    }
   ],
   "source": [
    "df_copy_hogt['p4_1'] = df_copy_hogt['p4_1'].astype('int64')\n",
    "df_copy_hogt['p4_1'].value_counts()"
   ]
  },
  {
   "cell_type": "markdown",
   "metadata": {},
   "source": [
    "## Pregunta 4,1 ¿Cuántos?\n",
    "\n",
    "01-99"
   ]
  },
  {
   "cell_type": "code",
   "execution_count": 63,
   "metadata": {
    "collapsed": false
   },
   "outputs": [
    {
     "data": {
      "text/plain": [
       "0     832029\n",
       "1      48868\n",
       "2       2288\n",
       "3        285\n",
       "4        153\n",
       "5          8\n",
       "7          4\n",
       "8          2\n",
       "10         1\n",
       "89         1\n",
       "82         1\n",
       "27         1\n",
       "28         1\n",
       "29         1\n",
       "39         1\n",
       "41         1\n",
       "49         1\n",
       "65         1\n",
       "11         1\n",
       "Name: p4_2, dtype: int64"
      ]
     },
     "execution_count": 63,
     "metadata": {},
     "output_type": "execute_result"
    }
   ],
   "source": [
    "df_copy_hogt['p4_2'] = df_copy_hogt['p4_2'].astype('int64')\n",
    "df_copy_hogt['p4_2'].value_counts()"
   ]
  },
  {
   "cell_type": "markdown",
   "metadata": {},
   "source": [
    "## Renglón del informante\n",
    "\n",
    "01-30 y 31=97 y 32=99"
   ]
  },
  {
   "cell_type": "code",
   "execution_count": 72,
   "metadata": {
    "collapsed": false
   },
   "outputs": [
    {
     "data": {
      "text/plain": [
       "2     371545\n",
       "1     358021\n",
       "3      60907\n",
       "97     40902\n",
       "4      28379\n",
       "5      12278\n",
       "6       5528\n",
       "7       2415\n",
       "99      1347\n",
       "8       1140\n",
       "9        591\n",
       "10       279\n",
       "11       143\n",
       "12        73\n",
       "13        42\n",
       "14        25\n",
       "15        10\n",
       "16         7\n",
       "17         6\n",
       "20         3\n",
       "21         3\n",
       "22         2\n",
       "18         1\n",
       "26         1\n",
       "Name: inf, dtype: int64"
      ]
     },
     "execution_count": 72,
     "metadata": {},
     "output_type": "execute_result"
    }
   ],
   "source": [
    "df_copy_hogt['inf'] = df_copy_hogt['inf'].astype('int64')\n",
    "df_copy_hogt['inf'].value_counts()"
   ]
  },
  {
   "cell_type": "code",
   "execution_count": 74,
   "metadata": {
    "collapsed": false
   },
   "outputs": [],
   "source": [
    "df_copy_hogt.inf.replace({97:31}, inplace= True)"
   ]
  },
  {
   "cell_type": "code",
   "execution_count": 75,
   "metadata": {
    "collapsed": false
   },
   "outputs": [
    {
     "data": {
      "text/plain": [
       "2     371545\n",
       "1     358021\n",
       "3      60907\n",
       "31     40902\n",
       "4      28379\n",
       "5      12278\n",
       "6       5528\n",
       "7       2415\n",
       "99      1347\n",
       "8       1140\n",
       "9        591\n",
       "10       279\n",
       "11       143\n",
       "12        73\n",
       "13        42\n",
       "14        25\n",
       "15        10\n",
       "16         7\n",
       "17         6\n",
       "20         3\n",
       "21         3\n",
       "22         2\n",
       "18         1\n",
       "26         1\n",
       "Name: inf, dtype: int64"
      ]
     },
     "execution_count": 75,
     "metadata": {},
     "output_type": "execute_result"
    }
   ],
   "source": [
    "df_copy_hogt['inf'].value_counts()"
   ]
  },
  {
   "cell_type": "code",
   "execution_count": 76,
   "metadata": {
    "collapsed": true
   },
   "outputs": [],
   "source": [
    "df_copy_hogt.inf.replace({99:32}, inplace= True)"
   ]
  },
  {
   "cell_type": "code",
   "execution_count": 77,
   "metadata": {
    "collapsed": false
   },
   "outputs": [
    {
     "data": {
      "text/plain": [
       "2     371545\n",
       "1     358021\n",
       "3      60907\n",
       "31     40902\n",
       "4      28379\n",
       "5      12278\n",
       "6       5528\n",
       "7       2415\n",
       "32      1347\n",
       "8       1140\n",
       "9        591\n",
       "10       279\n",
       "11       143\n",
       "12        73\n",
       "13        42\n",
       "14        25\n",
       "15        10\n",
       "16         7\n",
       "17         6\n",
       "20         3\n",
       "21         3\n",
       "22         2\n",
       "18         1\n",
       "26         1\n",
       "Name: inf, dtype: int64"
      ]
     },
     "execution_count": 77,
     "metadata": {},
     "output_type": "execute_result"
    }
   ],
   "source": [
    "df_copy_hogt['inf'].value_counts()"
   ]
  },
  {
   "cell_type": "markdown",
   "metadata": {},
   "source": [
    "## Campo exclusivo de proceso\n",
    "1-2"
   ]
  },
  {
   "cell_type": "code",
   "execution_count": 78,
   "metadata": {
    "collapsed": false
   },
   "outputs": [
    {
     "data": {
      "text/plain": [
       "1    524680\n",
       "2    358968\n",
       "Name: ur, dtype: int64"
      ]
     },
     "execution_count": 78,
     "metadata": {},
     "output_type": "execute_result"
    }
   ],
   "source": [
    "df_copy_hogt['ur'] = df_copy_hogt['ur'].astype('int64')\n",
    "df_copy_hogt['ur'].value_counts()"
   ]
  },
  {
   "cell_type": "markdown",
   "metadata": {},
   "source": [
    "## Factor de expansión\n",
    "000001-999998"
   ]
  },
  {
   "cell_type": "code",
   "execution_count": 81,
   "metadata": {
    "collapsed": false
   },
   "outputs": [
    {
     "data": {
      "text/plain": [
       "98      6172\n",
       "100     6061\n",
       "99      5838\n",
       "102     5811\n",
       "101     5806\n",
       "103     5681\n",
       "93      5581\n",
       "95      5458\n",
       "104     5372\n",
       "94      5352\n",
       "92      5322\n",
       "97      5268\n",
       "106     5232\n",
       "105     5224\n",
       "108     5215\n",
       "96      5152\n",
       "37      4852\n",
       "110     4838\n",
       "90      4803\n",
       "38      4756\n",
       "88      4746\n",
       "111     4723\n",
       "89      4632\n",
       "114     4618\n",
       "91      4556\n",
       "107     4499\n",
       "36      4458\n",
       "109     4456\n",
       "42      4438\n",
       "113     4405\n",
       "        ... \n",
       "5870       1\n",
       "3996       1\n",
       "2615       1\n",
       "3302       1\n",
       "2800       1\n",
       "3625       1\n",
       "3024       1\n",
       "4048       1\n",
       "4316       1\n",
       "6615       1\n",
       "3028       1\n",
       "4831       1\n",
       "2778       1\n",
       "3993       1\n",
       "5947       1\n",
       "3792       1\n",
       "2760       1\n",
       "8152       1\n",
       "2867       1\n",
       "4060       1\n",
       "3130       1\n",
       "3770       1\n",
       "4576       1\n",
       "3256       1\n",
       "5525       1\n",
       "3316       1\n",
       "4273       1\n",
       "2732       1\n",
       "1942       1\n",
       "2127       1\n",
       "Name: fac, dtype: int64"
      ]
     },
     "execution_count": 81,
     "metadata": {},
     "output_type": "execute_result"
    }
   ],
   "source": [
    "df_copy_hogt['fac'] = df_copy_hogt['fac'].astype('int64')\n",
    "df_copy_hogt['fac'].value_counts()"
   ]
  },
  {
   "cell_type": "markdown",
   "metadata": {},
   "source": [
    "# Exportar trabajo a csv"
   ]
  },
  {
   "cell_type": "code",
   "execution_count": 83,
   "metadata": {
    "collapsed": false
   },
   "outputs": [],
   "source": [
    "path_df_hogt = 'C:/Users/sala5/Desktop/ENOE/hogt_clean.csv'\n",
    "\n",
    "df_copy_hogt.to_csv(path_or_buf=path_df_hogt, index=True, encoding='utf-8')"
   ]
  }
 ],
 "metadata": {
  "anaconda-cloud": {},
  "kernelspec": {
   "display_name": "Python [default]",
   "language": "python",
   "name": "python3"
  },
  "language_info": {
   "codemirror_mode": {
    "name": "ipython",
    "version": 3
   },
   "file_extension": ".py",
   "mimetype": "text/x-python",
   "name": "python",
   "nbconvert_exporter": "python",
   "pygments_lexer": "ipython3",
   "version": "3.5.2"
  }
 },
 "nbformat": 4,
 "nbformat_minor": 1
}
